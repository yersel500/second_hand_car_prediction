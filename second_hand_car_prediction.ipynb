{
 "cells": [
  {
   "cell_type": "code",
   "execution_count": 1,
   "id": "b98d35c3",
   "metadata": {
    "_cell_guid": "b1076dfc-b9ad-4769-8c92-a6c4dae69d19",
    "_uuid": "8f2839f25d086af736a60e9eeb907d3b93b6e0e5",
    "execution": {
     "iopub.execute_input": "2024-04-29T15:10:28.735740Z",
     "iopub.status.busy": "2024-04-29T15:10:28.734923Z",
     "iopub.status.idle": "2024-04-29T15:10:29.880837Z",
     "shell.execute_reply": "2024-04-29T15:10:29.879331Z"
    },
    "papermill": {
     "duration": 1.161516,
     "end_time": "2024-04-29T15:10:29.883763",
     "exception": false,
     "start_time": "2024-04-29T15:10:28.722247",
     "status": "completed"
    },
    "tags": []
   },
   "outputs": [],
   "source": [
    "import numpy as np # linear algebra\n",
    "import pandas as pd # data processing, CSV file I/O (e.g. pd.read_csv)"
   ]
  },
  {
   "cell_type": "code",
   "execution_count": 2,
   "id": "b1d98138",
   "metadata": {
    "execution": {
     "iopub.execute_input": "2024-04-29T15:10:29.905232Z",
     "iopub.status.busy": "2024-04-29T15:10:29.904643Z",
     "iopub.status.idle": "2024-04-29T15:10:29.964956Z",
     "shell.execute_reply": "2024-04-29T15:10:29.963508Z"
    },
    "papermill": {
     "duration": 0.074083,
     "end_time": "2024-04-29T15:10:29.967667",
     "exception": false,
     "start_time": "2024-04-29T15:10:29.893584",
     "status": "completed"
    },
    "tags": []
   },
   "outputs": [
    {
     "data": {
      "text/html": [
       "<div>\n",
       "<style scoped>\n",
       "    .dataframe tbody tr th:only-of-type {\n",
       "        vertical-align: middle;\n",
       "    }\n",
       "\n",
       "    .dataframe tbody tr th {\n",
       "        vertical-align: top;\n",
       "    }\n",
       "\n",
       "    .dataframe thead th {\n",
       "        text-align: right;\n",
       "    }\n",
       "</style>\n",
       "<table border=\"1\" class=\"dataframe\">\n",
       "  <thead>\n",
       "    <tr style=\"text-align: right;\">\n",
       "      <th></th>\n",
       "      <th>Car_ID</th>\n",
       "      <th>Brand</th>\n",
       "      <th>Model</th>\n",
       "      <th>Year</th>\n",
       "      <th>Kilometers_Driven</th>\n",
       "      <th>Fuel_Type</th>\n",
       "      <th>Transmission</th>\n",
       "      <th>Owner_Type</th>\n",
       "      <th>Mileage</th>\n",
       "      <th>Engine</th>\n",
       "      <th>Power</th>\n",
       "      <th>Seats</th>\n",
       "      <th>Price</th>\n",
       "    </tr>\n",
       "  </thead>\n",
       "  <tbody>\n",
       "    <tr>\n",
       "      <th>0</th>\n",
       "      <td>1</td>\n",
       "      <td>Toyota</td>\n",
       "      <td>Corolla</td>\n",
       "      <td>2018</td>\n",
       "      <td>50000</td>\n",
       "      <td>Petrol</td>\n",
       "      <td>Manual</td>\n",
       "      <td>First</td>\n",
       "      <td>15</td>\n",
       "      <td>1498</td>\n",
       "      <td>108</td>\n",
       "      <td>5</td>\n",
       "      <td>800000</td>\n",
       "    </tr>\n",
       "    <tr>\n",
       "      <th>1</th>\n",
       "      <td>2</td>\n",
       "      <td>Honda</td>\n",
       "      <td>Civic</td>\n",
       "      <td>2019</td>\n",
       "      <td>40000</td>\n",
       "      <td>Petrol</td>\n",
       "      <td>Automatic</td>\n",
       "      <td>Second</td>\n",
       "      <td>17</td>\n",
       "      <td>1597</td>\n",
       "      <td>140</td>\n",
       "      <td>5</td>\n",
       "      <td>1000000</td>\n",
       "    </tr>\n",
       "    <tr>\n",
       "      <th>2</th>\n",
       "      <td>3</td>\n",
       "      <td>Ford</td>\n",
       "      <td>Mustang</td>\n",
       "      <td>2017</td>\n",
       "      <td>20000</td>\n",
       "      <td>Petrol</td>\n",
       "      <td>Automatic</td>\n",
       "      <td>First</td>\n",
       "      <td>10</td>\n",
       "      <td>4951</td>\n",
       "      <td>395</td>\n",
       "      <td>4</td>\n",
       "      <td>2500000</td>\n",
       "    </tr>\n",
       "    <tr>\n",
       "      <th>3</th>\n",
       "      <td>4</td>\n",
       "      <td>Maruti</td>\n",
       "      <td>Swift</td>\n",
       "      <td>2020</td>\n",
       "      <td>30000</td>\n",
       "      <td>Diesel</td>\n",
       "      <td>Manual</td>\n",
       "      <td>Third</td>\n",
       "      <td>23</td>\n",
       "      <td>1248</td>\n",
       "      <td>74</td>\n",
       "      <td>5</td>\n",
       "      <td>600000</td>\n",
       "    </tr>\n",
       "    <tr>\n",
       "      <th>4</th>\n",
       "      <td>5</td>\n",
       "      <td>Hyundai</td>\n",
       "      <td>Sonata</td>\n",
       "      <td>2016</td>\n",
       "      <td>60000</td>\n",
       "      <td>Diesel</td>\n",
       "      <td>Automatic</td>\n",
       "      <td>Second</td>\n",
       "      <td>18</td>\n",
       "      <td>1999</td>\n",
       "      <td>194</td>\n",
       "      <td>5</td>\n",
       "      <td>850000</td>\n",
       "    </tr>\n",
       "    <tr>\n",
       "      <th>5</th>\n",
       "      <td>6</td>\n",
       "      <td>Tata</td>\n",
       "      <td>Nexon</td>\n",
       "      <td>2019</td>\n",
       "      <td>35000</td>\n",
       "      <td>Petrol</td>\n",
       "      <td>Manual</td>\n",
       "      <td>First</td>\n",
       "      <td>17</td>\n",
       "      <td>1198</td>\n",
       "      <td>108</td>\n",
       "      <td>5</td>\n",
       "      <td>750000</td>\n",
       "    </tr>\n",
       "    <tr>\n",
       "      <th>6</th>\n",
       "      <td>7</td>\n",
       "      <td>Mahindra</td>\n",
       "      <td>Scorpio</td>\n",
       "      <td>2018</td>\n",
       "      <td>45000</td>\n",
       "      <td>Diesel</td>\n",
       "      <td>Automatic</td>\n",
       "      <td>Second</td>\n",
       "      <td>15</td>\n",
       "      <td>2179</td>\n",
       "      <td>140</td>\n",
       "      <td>7</td>\n",
       "      <td>900000</td>\n",
       "    </tr>\n",
       "    <tr>\n",
       "      <th>7</th>\n",
       "      <td>8</td>\n",
       "      <td>Volkswagen</td>\n",
       "      <td>Polo</td>\n",
       "      <td>2020</td>\n",
       "      <td>25000</td>\n",
       "      <td>Petrol</td>\n",
       "      <td>Automatic</td>\n",
       "      <td>First</td>\n",
       "      <td>18</td>\n",
       "      <td>999</td>\n",
       "      <td>76</td>\n",
       "      <td>5</td>\n",
       "      <td>650000</td>\n",
       "    </tr>\n",
       "    <tr>\n",
       "      <th>8</th>\n",
       "      <td>9</td>\n",
       "      <td>Audi</td>\n",
       "      <td>A4</td>\n",
       "      <td>2017</td>\n",
       "      <td>30000</td>\n",
       "      <td>Diesel</td>\n",
       "      <td>Automatic</td>\n",
       "      <td>First</td>\n",
       "      <td>18</td>\n",
       "      <td>1968</td>\n",
       "      <td>187</td>\n",
       "      <td>5</td>\n",
       "      <td>2200000</td>\n",
       "    </tr>\n",
       "    <tr>\n",
       "      <th>9</th>\n",
       "      <td>10</td>\n",
       "      <td>BMW</td>\n",
       "      <td>X1</td>\n",
       "      <td>2019</td>\n",
       "      <td>20000</td>\n",
       "      <td>Diesel</td>\n",
       "      <td>Automatic</td>\n",
       "      <td>Second</td>\n",
       "      <td>20</td>\n",
       "      <td>1995</td>\n",
       "      <td>190</td>\n",
       "      <td>5</td>\n",
       "      <td>2700000</td>\n",
       "    </tr>\n",
       "  </tbody>\n",
       "</table>\n",
       "</div>"
      ],
      "text/plain": [
       "   Car_ID       Brand    Model  Year  Kilometers_Driven Fuel_Type  \\\n",
       "0       1      Toyota  Corolla  2018              50000    Petrol   \n",
       "1       2       Honda    Civic  2019              40000    Petrol   \n",
       "2       3        Ford  Mustang  2017              20000    Petrol   \n",
       "3       4      Maruti    Swift  2020              30000    Diesel   \n",
       "4       5     Hyundai   Sonata  2016              60000    Diesel   \n",
       "5       6        Tata    Nexon  2019              35000    Petrol   \n",
       "6       7    Mahindra  Scorpio  2018              45000    Diesel   \n",
       "7       8  Volkswagen     Polo  2020              25000    Petrol   \n",
       "8       9        Audi       A4  2017              30000    Diesel   \n",
       "9      10         BMW       X1  2019              20000    Diesel   \n",
       "\n",
       "  Transmission Owner_Type  Mileage  Engine  Power  Seats    Price  \n",
       "0       Manual      First       15    1498    108      5   800000  \n",
       "1    Automatic     Second       17    1597    140      5  1000000  \n",
       "2    Automatic      First       10    4951    395      4  2500000  \n",
       "3       Manual      Third       23    1248     74      5   600000  \n",
       "4    Automatic     Second       18    1999    194      5   850000  \n",
       "5       Manual      First       17    1198    108      5   750000  \n",
       "6    Automatic     Second       15    2179    140      7   900000  \n",
       "7    Automatic      First       18     999     76      5   650000  \n",
       "8    Automatic      First       18    1968    187      5  2200000  \n",
       "9    Automatic     Second       20    1995    190      5  2700000  "
      ]
     },
     "execution_count": 2,
     "metadata": {},
     "output_type": "execute_result"
    }
   ],
   "source": [
    "path = \"/kaggle/input/second-hand-car-price-prediction/cars.csv\"\n",
    "\n",
    "cars_data = pd.read_csv(path)\n",
    "cars_data.head(10)"
   ]
  },
  {
   "cell_type": "code",
   "execution_count": 3,
   "id": "b6e94937",
   "metadata": {
    "execution": {
     "iopub.execute_input": "2024-04-29T15:10:29.991178Z",
     "iopub.status.busy": "2024-04-29T15:10:29.990785Z",
     "iopub.status.idle": "2024-04-29T15:10:29.998045Z",
     "shell.execute_reply": "2024-04-29T15:10:29.996801Z"
    },
    "papermill": {
     "duration": 0.022309,
     "end_time": "2024-04-29T15:10:30.000576",
     "exception": false,
     "start_time": "2024-04-29T15:10:29.978267",
     "status": "completed"
    },
    "tags": []
   },
   "outputs": [
    {
     "data": {
      "text/plain": [
       "(100, 13)"
      ]
     },
     "execution_count": 3,
     "metadata": {},
     "output_type": "execute_result"
    }
   ],
   "source": [
    "cars_data.shape"
   ]
  },
  {
   "cell_type": "code",
   "execution_count": 4,
   "id": "4326d94e",
   "metadata": {
    "execution": {
     "iopub.execute_input": "2024-04-29T15:10:30.022956Z",
     "iopub.status.busy": "2024-04-29T15:10:30.022561Z",
     "iopub.status.idle": "2024-04-29T15:10:30.035155Z",
     "shell.execute_reply": "2024-04-29T15:10:30.033747Z"
    },
    "papermill": {
     "duration": 0.026947,
     "end_time": "2024-04-29T15:10:30.037767",
     "exception": false,
     "start_time": "2024-04-29T15:10:30.010820",
     "status": "completed"
    },
    "tags": []
   },
   "outputs": [
    {
     "data": {
      "text/plain": [
       "0"
      ]
     },
     "execution_count": 4,
     "metadata": {},
     "output_type": "execute_result"
    }
   ],
   "source": [
    "# Check rows with missing targets\n",
    "cars_data['Price'].isna().sum()"
   ]
  },
  {
   "cell_type": "code",
   "execution_count": 5,
   "id": "988306b1",
   "metadata": {
    "execution": {
     "iopub.execute_input": "2024-04-29T15:10:30.060792Z",
     "iopub.status.busy": "2024-04-29T15:10:30.060365Z",
     "iopub.status.idle": "2024-04-29T15:10:30.086761Z",
     "shell.execute_reply": "2024-04-29T15:10:30.085462Z"
    },
    "papermill": {
     "duration": 0.041247,
     "end_time": "2024-04-29T15:10:30.089484",
     "exception": false,
     "start_time": "2024-04-29T15:10:30.048237",
     "status": "completed"
    },
    "tags": []
   },
   "outputs": [
    {
     "data": {
      "text/html": [
       "<div>\n",
       "<style scoped>\n",
       "    .dataframe tbody tr th:only-of-type {\n",
       "        vertical-align: middle;\n",
       "    }\n",
       "\n",
       "    .dataframe tbody tr th {\n",
       "        vertical-align: top;\n",
       "    }\n",
       "\n",
       "    .dataframe thead th {\n",
       "        text-align: right;\n",
       "    }\n",
       "</style>\n",
       "<table border=\"1\" class=\"dataframe\">\n",
       "  <thead>\n",
       "    <tr style=\"text-align: right;\">\n",
       "      <th></th>\n",
       "      <th>Car_ID</th>\n",
       "      <th>Brand</th>\n",
       "      <th>Model</th>\n",
       "      <th>Year</th>\n",
       "      <th>Kilometers_Driven</th>\n",
       "      <th>Fuel_Type</th>\n",
       "      <th>Transmission</th>\n",
       "      <th>Owner_Type</th>\n",
       "      <th>Mileage</th>\n",
       "      <th>Engine</th>\n",
       "      <th>Power</th>\n",
       "      <th>Seats</th>\n",
       "    </tr>\n",
       "  </thead>\n",
       "  <tbody>\n",
       "    <tr>\n",
       "      <th>0</th>\n",
       "      <td>1</td>\n",
       "      <td>Toyota</td>\n",
       "      <td>Corolla</td>\n",
       "      <td>2018</td>\n",
       "      <td>50000</td>\n",
       "      <td>Petrol</td>\n",
       "      <td>Manual</td>\n",
       "      <td>First</td>\n",
       "      <td>15</td>\n",
       "      <td>1498</td>\n",
       "      <td>108</td>\n",
       "      <td>5</td>\n",
       "    </tr>\n",
       "    <tr>\n",
       "      <th>1</th>\n",
       "      <td>2</td>\n",
       "      <td>Honda</td>\n",
       "      <td>Civic</td>\n",
       "      <td>2019</td>\n",
       "      <td>40000</td>\n",
       "      <td>Petrol</td>\n",
       "      <td>Automatic</td>\n",
       "      <td>Second</td>\n",
       "      <td>17</td>\n",
       "      <td>1597</td>\n",
       "      <td>140</td>\n",
       "      <td>5</td>\n",
       "    </tr>\n",
       "    <tr>\n",
       "      <th>2</th>\n",
       "      <td>3</td>\n",
       "      <td>Ford</td>\n",
       "      <td>Mustang</td>\n",
       "      <td>2017</td>\n",
       "      <td>20000</td>\n",
       "      <td>Petrol</td>\n",
       "      <td>Automatic</td>\n",
       "      <td>First</td>\n",
       "      <td>10</td>\n",
       "      <td>4951</td>\n",
       "      <td>395</td>\n",
       "      <td>4</td>\n",
       "    </tr>\n",
       "    <tr>\n",
       "      <th>3</th>\n",
       "      <td>4</td>\n",
       "      <td>Maruti</td>\n",
       "      <td>Swift</td>\n",
       "      <td>2020</td>\n",
       "      <td>30000</td>\n",
       "      <td>Diesel</td>\n",
       "      <td>Manual</td>\n",
       "      <td>Third</td>\n",
       "      <td>23</td>\n",
       "      <td>1248</td>\n",
       "      <td>74</td>\n",
       "      <td>5</td>\n",
       "    </tr>\n",
       "    <tr>\n",
       "      <th>4</th>\n",
       "      <td>5</td>\n",
       "      <td>Hyundai</td>\n",
       "      <td>Sonata</td>\n",
       "      <td>2016</td>\n",
       "      <td>60000</td>\n",
       "      <td>Diesel</td>\n",
       "      <td>Automatic</td>\n",
       "      <td>Second</td>\n",
       "      <td>18</td>\n",
       "      <td>1999</td>\n",
       "      <td>194</td>\n",
       "      <td>5</td>\n",
       "    </tr>\n",
       "  </tbody>\n",
       "</table>\n",
       "</div>"
      ],
      "text/plain": [
       "   Car_ID    Brand    Model  Year  Kilometers_Driven Fuel_Type Transmission  \\\n",
       "0       1   Toyota  Corolla  2018              50000    Petrol       Manual   \n",
       "1       2    Honda    Civic  2019              40000    Petrol    Automatic   \n",
       "2       3     Ford  Mustang  2017              20000    Petrol    Automatic   \n",
       "3       4   Maruti    Swift  2020              30000    Diesel       Manual   \n",
       "4       5  Hyundai   Sonata  2016              60000    Diesel    Automatic   \n",
       "\n",
       "  Owner_Type  Mileage  Engine  Power  Seats  \n",
       "0      First       15    1498    108      5  \n",
       "1     Second       17    1597    140      5  \n",
       "2      First       10    4951    395      4  \n",
       "3      Third       23    1248     74      5  \n",
       "4     Second       18    1999    194      5  "
      ]
     },
     "execution_count": 5,
     "metadata": {},
     "output_type": "execute_result"
    }
   ],
   "source": [
    "X_data = cars_data.copy()\n",
    "y_data = X_data.Price\n",
    "X_data.drop(['Price'], axis=1, inplace=True)\n",
    "X_data.head()"
   ]
  },
  {
   "cell_type": "markdown",
   "id": "a07c7152",
   "metadata": {
    "papermill": {
     "duration": 0.010737,
     "end_time": "2024-04-29T15:10:30.111611",
     "exception": false,
     "start_time": "2024-04-29T15:10:30.100874",
     "status": "completed"
    },
    "tags": []
   },
   "source": [
    "It means that all rows have targets, so we don't need to delete any row"
   ]
  },
  {
   "cell_type": "code",
   "execution_count": 6,
   "id": "61097887",
   "metadata": {
    "execution": {
     "iopub.execute_input": "2024-04-29T15:10:30.137515Z",
     "iopub.status.busy": "2024-04-29T15:10:30.137068Z",
     "iopub.status.idle": "2024-04-29T15:10:30.153341Z",
     "shell.execute_reply": "2024-04-29T15:10:30.152203Z"
    },
    "papermill": {
     "duration": 0.033702,
     "end_time": "2024-04-29T15:10:30.156106",
     "exception": false,
     "start_time": "2024-04-29T15:10:30.122404",
     "status": "completed"
    },
    "tags": []
   },
   "outputs": [
    {
     "data": {
      "text/html": [
       "<div>\n",
       "<style scoped>\n",
       "    .dataframe tbody tr th:only-of-type {\n",
       "        vertical-align: middle;\n",
       "    }\n",
       "\n",
       "    .dataframe tbody tr th {\n",
       "        vertical-align: top;\n",
       "    }\n",
       "\n",
       "    .dataframe thead th {\n",
       "        text-align: right;\n",
       "    }\n",
       "</style>\n",
       "<table border=\"1\" class=\"dataframe\">\n",
       "  <thead>\n",
       "    <tr style=\"text-align: right;\">\n",
       "      <th></th>\n",
       "      <th>Brand</th>\n",
       "      <th>Model</th>\n",
       "      <th>Year</th>\n",
       "      <th>Kilometers_Driven</th>\n",
       "      <th>Fuel_Type</th>\n",
       "      <th>Transmission</th>\n",
       "      <th>Owner_Type</th>\n",
       "      <th>Mileage</th>\n",
       "      <th>Engine</th>\n",
       "      <th>Power</th>\n",
       "      <th>Seats</th>\n",
       "    </tr>\n",
       "  </thead>\n",
       "  <tbody>\n",
       "    <tr>\n",
       "      <th>0</th>\n",
       "      <td>Toyota</td>\n",
       "      <td>Corolla</td>\n",
       "      <td>2018</td>\n",
       "      <td>50000</td>\n",
       "      <td>Petrol</td>\n",
       "      <td>Manual</td>\n",
       "      <td>First</td>\n",
       "      <td>15</td>\n",
       "      <td>1498</td>\n",
       "      <td>108</td>\n",
       "      <td>5</td>\n",
       "    </tr>\n",
       "    <tr>\n",
       "      <th>1</th>\n",
       "      <td>Honda</td>\n",
       "      <td>Civic</td>\n",
       "      <td>2019</td>\n",
       "      <td>40000</td>\n",
       "      <td>Petrol</td>\n",
       "      <td>Automatic</td>\n",
       "      <td>Second</td>\n",
       "      <td>17</td>\n",
       "      <td>1597</td>\n",
       "      <td>140</td>\n",
       "      <td>5</td>\n",
       "    </tr>\n",
       "    <tr>\n",
       "      <th>2</th>\n",
       "      <td>Ford</td>\n",
       "      <td>Mustang</td>\n",
       "      <td>2017</td>\n",
       "      <td>20000</td>\n",
       "      <td>Petrol</td>\n",
       "      <td>Automatic</td>\n",
       "      <td>First</td>\n",
       "      <td>10</td>\n",
       "      <td>4951</td>\n",
       "      <td>395</td>\n",
       "      <td>4</td>\n",
       "    </tr>\n",
       "    <tr>\n",
       "      <th>3</th>\n",
       "      <td>Maruti</td>\n",
       "      <td>Swift</td>\n",
       "      <td>2020</td>\n",
       "      <td>30000</td>\n",
       "      <td>Diesel</td>\n",
       "      <td>Manual</td>\n",
       "      <td>Third</td>\n",
       "      <td>23</td>\n",
       "      <td>1248</td>\n",
       "      <td>74</td>\n",
       "      <td>5</td>\n",
       "    </tr>\n",
       "    <tr>\n",
       "      <th>4</th>\n",
       "      <td>Hyundai</td>\n",
       "      <td>Sonata</td>\n",
       "      <td>2016</td>\n",
       "      <td>60000</td>\n",
       "      <td>Diesel</td>\n",
       "      <td>Automatic</td>\n",
       "      <td>Second</td>\n",
       "      <td>18</td>\n",
       "      <td>1999</td>\n",
       "      <td>194</td>\n",
       "      <td>5</td>\n",
       "    </tr>\n",
       "  </tbody>\n",
       "</table>\n",
       "</div>"
      ],
      "text/plain": [
       "     Brand    Model  Year  Kilometers_Driven Fuel_Type Transmission  \\\n",
       "0   Toyota  Corolla  2018              50000    Petrol       Manual   \n",
       "1    Honda    Civic  2019              40000    Petrol    Automatic   \n",
       "2     Ford  Mustang  2017              20000    Petrol    Automatic   \n",
       "3   Maruti    Swift  2020              30000    Diesel       Manual   \n",
       "4  Hyundai   Sonata  2016              60000    Diesel    Automatic   \n",
       "\n",
       "  Owner_Type  Mileage  Engine  Power  Seats  \n",
       "0      First       15    1498    108      5  \n",
       "1     Second       17    1597    140      5  \n",
       "2      First       10    4951    395      4  \n",
       "3      Third       23    1248     74      5  \n",
       "4     Second       18    1999    194      5  "
      ]
     },
     "execution_count": 6,
     "metadata": {},
     "output_type": "execute_result"
    }
   ],
   "source": [
    "# Delete the Car_ID column, since the purpose of it is only ordering the rows\n",
    "X_data.drop(['Car_ID'], axis=1, inplace=True)\n",
    "X_data.head()"
   ]
  },
  {
   "cell_type": "markdown",
   "id": "2ff054fb",
   "metadata": {
    "papermill": {
     "duration": 0.011094,
     "end_time": "2024-04-29T15:10:30.178791",
     "exception": false,
     "start_time": "2024-04-29T15:10:30.167697",
     "status": "completed"
    },
    "tags": []
   },
   "source": [
    "# Linear Regression"
   ]
  },
  {
   "cell_type": "code",
   "execution_count": 7,
   "id": "856d1967",
   "metadata": {
    "execution": {
     "iopub.execute_input": "2024-04-29T15:10:30.202972Z",
     "iopub.status.busy": "2024-04-29T15:10:30.202586Z",
     "iopub.status.idle": "2024-04-29T15:10:31.849384Z",
     "shell.execute_reply": "2024-04-29T15:10:31.847841Z"
    },
    "papermill": {
     "duration": 1.662395,
     "end_time": "2024-04-29T15:10:31.852356",
     "exception": false,
     "start_time": "2024-04-29T15:10:30.189961",
     "status": "completed"
    },
    "tags": []
   },
   "outputs": [],
   "source": [
    "# Break off validation data from training data\n",
    "from sklearn.model_selection import train_test_split\n",
    "\n",
    "X_train_full, X_valid_full, y_train, y_valid = train_test_split(X_data, y_data, train_size=0.7,\n",
    "                                                     test_size=0.3, random_state=0)"
   ]
  },
  {
   "cell_type": "code",
   "execution_count": 8,
   "id": "36a26185",
   "metadata": {
    "execution": {
     "iopub.execute_input": "2024-04-29T15:10:31.878709Z",
     "iopub.status.busy": "2024-04-29T15:10:31.877724Z",
     "iopub.status.idle": "2024-04-29T15:10:31.894568Z",
     "shell.execute_reply": "2024-04-29T15:10:31.893288Z"
    },
    "papermill": {
     "duration": 0.033211,
     "end_time": "2024-04-29T15:10:31.897239",
     "exception": false,
     "start_time": "2024-04-29T15:10:31.864028",
     "status": "completed"
    },
    "tags": []
   },
   "outputs": [
    {
     "data": {
      "text/plain": [
       "['Brand', 'Fuel_Type', 'Transmission', 'Owner_Type']"
      ]
     },
     "execution_count": 8,
     "metadata": {},
     "output_type": "execute_result"
    }
   ],
   "source": [
    "# Identify categoricl and numerical columns:\n",
    "# Select categorical cols\n",
    "categorical_cols = [cname for cname in X_train_full.columns if\n",
    "                   X_train_full[cname].nunique() < 15 and\n",
    "                   X_train_full[cname].dtype == \"object\"]\n",
    "categorical_cols"
   ]
  },
  {
   "cell_type": "code",
   "execution_count": 9,
   "id": "1ac1b8e4",
   "metadata": {
    "execution": {
     "iopub.execute_input": "2024-04-29T15:10:31.922375Z",
     "iopub.status.busy": "2024-04-29T15:10:31.921677Z",
     "iopub.status.idle": "2024-04-29T15:10:31.929569Z",
     "shell.execute_reply": "2024-04-29T15:10:31.928366Z"
    },
    "papermill": {
     "duration": 0.023721,
     "end_time": "2024-04-29T15:10:31.932298",
     "exception": false,
     "start_time": "2024-04-29T15:10:31.908577",
     "status": "completed"
    },
    "tags": []
   },
   "outputs": [
    {
     "data": {
      "text/plain": [
       "['Year', 'Kilometers_Driven', 'Mileage', 'Engine', 'Power', 'Seats']"
      ]
     },
     "execution_count": 9,
     "metadata": {},
     "output_type": "execute_result"
    }
   ],
   "source": [
    "# Select numerical cols\n",
    "numerical_cols = [cname for cname in X_train_full.columns if\n",
    "                 X_train_full[cname].dtype in ['int64', 'float64']]\n",
    "numerical_cols"
   ]
  },
  {
   "cell_type": "markdown",
   "id": "8b4c5996",
   "metadata": {
    "papermill": {
     "duration": 0.011085,
     "end_time": "2024-04-29T15:10:31.954912",
     "exception": false,
     "start_time": "2024-04-29T15:10:31.943827",
     "status": "completed"
    },
    "tags": []
   },
   "source": [
    "We are missing the Brand model, let's analyize to check how many unique values we have on it"
   ]
  },
  {
   "cell_type": "code",
   "execution_count": 10,
   "id": "7735019a",
   "metadata": {
    "execution": {
     "iopub.execute_input": "2024-04-29T15:10:31.979717Z",
     "iopub.status.busy": "2024-04-29T15:10:31.979295Z",
     "iopub.status.idle": "2024-04-29T15:10:31.986360Z",
     "shell.execute_reply": "2024-04-29T15:10:31.985555Z"
    },
    "papermill": {
     "duration": 0.022049,
     "end_time": "2024-04-29T15:10:31.988489",
     "exception": false,
     "start_time": "2024-04-29T15:10:31.966440",
     "status": "completed"
    },
    "tags": []
   },
   "outputs": [
    {
     "data": {
      "text/plain": [
       "array(['Verna', 'Tigor', 'Tiago', 'Aspire', 'Venue', 'X3', '5 Series',\n",
       "       '3 Series', 'Passat', 'A3', 'Civic', 'Altroz', 'Santro', 'Sonata',\n",
       "       'City', 'Q3', 'Ranger', 'GLE', 'Nexon', 'XUV300', 'EcoSport',\n",
       "       'Corolla', 'WR-V', 'E-Class', 'Mustang', 'Endeavour', 'Ameo',\n",
       "       'C-Class', 'Elantra', 'X5', 'Safari', 'Q7', 'Ertiga', 'GLC',\n",
       "       'Fortuner', 'Camry', 'Innova', 'Yaris', '7 Series', 'S-Cross',\n",
       "       'Innova Crysta', 'Creta', 'Figo', 'T-Roc', 'X1', 'A6', 'BR-V'],\n",
       "      dtype=object)"
      ]
     },
     "execution_count": 10,
     "metadata": {},
     "output_type": "execute_result"
    }
   ],
   "source": [
    "X_train_full['Model'].unique()"
   ]
  },
  {
   "cell_type": "code",
   "execution_count": 11,
   "id": "ac88f208",
   "metadata": {
    "execution": {
     "iopub.execute_input": "2024-04-29T15:10:32.015463Z",
     "iopub.status.busy": "2024-04-29T15:10:32.014675Z",
     "iopub.status.idle": "2024-04-29T15:10:32.022060Z",
     "shell.execute_reply": "2024-04-29T15:10:32.020711Z"
    },
    "papermill": {
     "duration": 0.024181,
     "end_time": "2024-04-29T15:10:32.024781",
     "exception": false,
     "start_time": "2024-04-29T15:10:32.000600",
     "status": "completed"
    },
    "tags": []
   },
   "outputs": [
    {
     "data": {
      "text/plain": [
       "47"
      ]
     },
     "execution_count": 11,
     "metadata": {},
     "output_type": "execute_result"
    }
   ],
   "source": [
    "X_train_full['Model'].nunique()"
   ]
  },
  {
   "cell_type": "markdown",
   "id": "ea9e2a3a",
   "metadata": {
    "papermill": {
     "duration": 0.012057,
     "end_time": "2024-04-29T15:10:32.050075",
     "exception": false,
     "start_time": "2024-04-29T15:10:32.038018",
     "status": "completed"
    },
    "tags": []
   },
   "source": [
    "Due the the high cardinality of Model column, for now we won't consider this column. Later we'll include it to see its effect in the performance of the model"
   ]
  },
  {
   "cell_type": "code",
   "execution_count": 12,
   "id": "f4d0f4cf",
   "metadata": {
    "execution": {
     "iopub.execute_input": "2024-04-29T15:10:32.076992Z",
     "iopub.status.busy": "2024-04-29T15:10:32.076537Z",
     "iopub.status.idle": "2024-04-29T15:10:32.084991Z",
     "shell.execute_reply": "2024-04-29T15:10:32.083438Z"
    },
    "papermill": {
     "duration": 0.024997,
     "end_time": "2024-04-29T15:10:32.087595",
     "exception": false,
     "start_time": "2024-04-29T15:10:32.062598",
     "status": "completed"
    },
    "tags": []
   },
   "outputs": [],
   "source": [
    "# Keep selected columns only\n",
    "my_cols = categorical_cols + numerical_cols\n",
    "X_train = X_train_full[my_cols].copy()\n",
    "X_valid = X_valid_full[my_cols].copy()"
   ]
  },
  {
   "cell_type": "code",
   "execution_count": 13,
   "id": "851da743",
   "metadata": {
    "execution": {
     "iopub.execute_input": "2024-04-29T15:10:32.113036Z",
     "iopub.status.busy": "2024-04-29T15:10:32.112597Z",
     "iopub.status.idle": "2024-04-29T15:10:32.128649Z",
     "shell.execute_reply": "2024-04-29T15:10:32.127121Z"
    },
    "papermill": {
     "duration": 0.031679,
     "end_time": "2024-04-29T15:10:32.131058",
     "exception": false,
     "start_time": "2024-04-29T15:10:32.099379",
     "status": "completed"
    },
    "tags": []
   },
   "outputs": [
    {
     "data": {
      "text/html": [
       "<div>\n",
       "<style scoped>\n",
       "    .dataframe tbody tr th:only-of-type {\n",
       "        vertical-align: middle;\n",
       "    }\n",
       "\n",
       "    .dataframe tbody tr th {\n",
       "        vertical-align: top;\n",
       "    }\n",
       "\n",
       "    .dataframe thead th {\n",
       "        text-align: right;\n",
       "    }\n",
       "</style>\n",
       "<table border=\"1\" class=\"dataframe\">\n",
       "  <thead>\n",
       "    <tr style=\"text-align: right;\">\n",
       "      <th></th>\n",
       "      <th>Brand</th>\n",
       "      <th>Fuel_Type</th>\n",
       "      <th>Transmission</th>\n",
       "      <th>Owner_Type</th>\n",
       "      <th>Year</th>\n",
       "      <th>Kilometers_Driven</th>\n",
       "      <th>Mileage</th>\n",
       "      <th>Engine</th>\n",
       "      <th>Power</th>\n",
       "      <th>Seats</th>\n",
       "    </tr>\n",
       "  </thead>\n",
       "  <tbody>\n",
       "    <tr>\n",
       "      <th>60</th>\n",
       "      <td>Hyundai</td>\n",
       "      <td>Petrol</td>\n",
       "      <td>Automatic</td>\n",
       "      <td>Second</td>\n",
       "      <td>2019</td>\n",
       "      <td>24000</td>\n",
       "      <td>17</td>\n",
       "      <td>1497</td>\n",
       "      <td>113</td>\n",
       "      <td>5</td>\n",
       "    </tr>\n",
       "    <tr>\n",
       "      <th>80</th>\n",
       "      <td>Tata</td>\n",
       "      <td>Diesel</td>\n",
       "      <td>Manual</td>\n",
       "      <td>First</td>\n",
       "      <td>2018</td>\n",
       "      <td>42000</td>\n",
       "      <td>24</td>\n",
       "      <td>1047</td>\n",
       "      <td>69</td>\n",
       "      <td>5</td>\n",
       "    </tr>\n",
       "    <tr>\n",
       "      <th>90</th>\n",
       "      <td>Tata</td>\n",
       "      <td>Petrol</td>\n",
       "      <td>Manual</td>\n",
       "      <td>First</td>\n",
       "      <td>2020</td>\n",
       "      <td>18000</td>\n",
       "      <td>23</td>\n",
       "      <td>1199</td>\n",
       "      <td>84</td>\n",
       "      <td>5</td>\n",
       "    </tr>\n",
       "    <tr>\n",
       "      <th>68</th>\n",
       "      <td>Ford</td>\n",
       "      <td>Petrol</td>\n",
       "      <td>Manual</td>\n",
       "      <td>Third</td>\n",
       "      <td>2019</td>\n",
       "      <td>26000</td>\n",
       "      <td>20</td>\n",
       "      <td>1194</td>\n",
       "      <td>94</td>\n",
       "      <td>5</td>\n",
       "    </tr>\n",
       "    <tr>\n",
       "      <th>51</th>\n",
       "      <td>Hyundai</td>\n",
       "      <td>Petrol</td>\n",
       "      <td>Manual</td>\n",
       "      <td>Third</td>\n",
       "      <td>2018</td>\n",
       "      <td>32000</td>\n",
       "      <td>17</td>\n",
       "      <td>1197</td>\n",
       "      <td>81</td>\n",
       "      <td>5</td>\n",
       "    </tr>\n",
       "  </tbody>\n",
       "</table>\n",
       "</div>"
      ],
      "text/plain": [
       "      Brand Fuel_Type Transmission Owner_Type  Year  Kilometers_Driven  \\\n",
       "60  Hyundai    Petrol    Automatic     Second  2019              24000   \n",
       "80     Tata    Diesel       Manual      First  2018              42000   \n",
       "90     Tata    Petrol       Manual      First  2020              18000   \n",
       "68     Ford    Petrol       Manual      Third  2019              26000   \n",
       "51  Hyundai    Petrol       Manual      Third  2018              32000   \n",
       "\n",
       "    Mileage  Engine  Power  Seats  \n",
       "60       17    1497    113      5  \n",
       "80       24    1047     69      5  \n",
       "90       23    1199     84      5  \n",
       "68       20    1194     94      5  \n",
       "51       17    1197     81      5  "
      ]
     },
     "execution_count": 13,
     "metadata": {},
     "output_type": "execute_result"
    }
   ],
   "source": [
    "X_train.head()"
   ]
  },
  {
   "cell_type": "markdown",
   "id": "9fecd8d1",
   "metadata": {
    "papermill": {
     "duration": 0.012534,
     "end_time": "2024-04-29T15:10:32.155995",
     "exception": false,
     "start_time": "2024-04-29T15:10:32.143461",
     "status": "completed"
    },
    "tags": []
   },
   "source": [
    "Use of pipelines"
   ]
  },
  {
   "cell_type": "code",
   "execution_count": 14,
   "id": "0fee5199",
   "metadata": {
    "execution": {
     "iopub.execute_input": "2024-04-29T15:10:32.183466Z",
     "iopub.status.busy": "2024-04-29T15:10:32.183022Z",
     "iopub.status.idle": "2024-04-29T15:10:32.553804Z",
     "shell.execute_reply": "2024-04-29T15:10:32.552180Z"
    },
    "papermill": {
     "duration": 0.388583,
     "end_time": "2024-04-29T15:10:32.557240",
     "exception": false,
     "start_time": "2024-04-29T15:10:32.168657",
     "status": "completed"
    },
    "tags": []
   },
   "outputs": [
    {
     "name": "stdout",
     "output_type": "stream",
     "text": [
      "MAE 225599.80981168922\n"
     ]
    }
   ],
   "source": [
    "from sklearn.compose import ColumnTransformer\n",
    "from sklearn.pipeline import Pipeline\n",
    "from sklearn.impute import SimpleImputer\n",
    "from sklearn.preprocessing import OneHotEncoder\n",
    "from sklearn.linear_model import LinearRegression\n",
    "from sklearn.metrics import mean_absolute_error, r2_score\n",
    "\n",
    "#Preprocessing for numerical data:\n",
    "numerical_transformer = SimpleImputer(strategy='constant')\n",
    "\n",
    "#Preprocessing for categorical data:\n",
    "categorical_transformer = Pipeline(steps=[\n",
    "    ('imputer', SimpleImputer(strategy='most_frequent')),\n",
    "    ('onehot', OneHotEncoder(handle_unknown='ignore'))\n",
    "])\n",
    "\n",
    "#Bundle preprocessing for numericcal and categorical data\n",
    "preprocessor = ColumnTransformer(\n",
    "    transformers=[\n",
    "        ('num', numerical_transformer, numerical_cols),\n",
    "        ('cat', categorical_transformer, categorical_cols)\n",
    "    ])\n",
    "\n",
    "#Define model\n",
    "model = LinearRegression()\n",
    "\n",
    "# Bundle preprocessing and modeling code in a pipeline\n",
    "clf = Pipeline(steps=[('preprocessor', preprocessor),\n",
    "                      ('model', model)\n",
    "                     ])\n",
    "\n",
    "# Preprocessing of training data, fit model\n",
    "clf.fit(X_train, y_train)\n",
    "\n",
    "# Get predictions\n",
    "preds = clf.predict(X_valid)\n",
    "\n",
    "mae_1 = mean_absolute_error(y_valid, preds)\n",
    "\n",
    "print('MAE', mae_1)"
   ]
  },
  {
   "cell_type": "code",
   "execution_count": 15,
   "id": "855313da",
   "metadata": {
    "execution": {
     "iopub.execute_input": "2024-04-29T15:10:32.584552Z",
     "iopub.status.busy": "2024-04-29T15:10:32.584098Z",
     "iopub.status.idle": "2024-04-29T15:10:32.976067Z",
     "shell.execute_reply": "2024-04-29T15:10:32.974916Z"
    },
    "papermill": {
     "duration": 0.408834,
     "end_time": "2024-04-29T15:10:32.978401",
     "exception": false,
     "start_time": "2024-04-29T15:10:32.569567",
     "status": "completed"
    },
    "tags": []
   },
   "outputs": [
    {
     "data": {
      "image/png": "[encoded data removed]",
      "text/plain": [
       "<Figure size 800x600 with 1 Axes>"
      ]
     },
     "metadata": {},
     "output_type": "display_data"
    }
   ],
   "source": [
    "# Plotting\n",
    "import matplotlib.pyplot as plt\n",
    "plt.figure(figsize=(8, 6))\n",
    "plt.scatter(y_valid, preds, color='blue')  # Scatter plot of actual vs predicted\n",
    "plt.plot([y_data.min(), y_data.max()], [y_data.min(), y_data.max()], 'k--', lw=4)  # Diagonal line where actual = predicted\n",
    "plt.xlabel('Actual Price')\n",
    "plt.ylabel('Predicted Price')\n",
    "plt.title('Actual vs. Predicted Prices')\n",
    "plt.show()"
   ]
  },
  {
   "cell_type": "markdown",
   "id": "9c2899a3",
   "metadata": {
    "papermill": {
     "duration": 0.01275,
     "end_time": "2024-04-29T15:10:33.003947",
     "exception": false,
     "start_time": "2024-04-29T15:10:32.991197",
     "status": "completed"
    },
    "tags": []
   },
   "source": [
    "# Linear Regression including the 'Model' column"
   ]
  },
  {
   "cell_type": "code",
   "execution_count": 16,
   "id": "92e3493f",
   "metadata": {
    "execution": {
     "iopub.execute_input": "2024-04-29T15:10:33.033410Z",
     "iopub.status.busy": "2024-04-29T15:10:33.032752Z",
     "iopub.status.idle": "2024-04-29T15:10:33.040809Z",
     "shell.execute_reply": "2024-04-29T15:10:33.039512Z"
    },
    "papermill": {
     "duration": 0.026208,
     "end_time": "2024-04-29T15:10:33.043159",
     "exception": false,
     "start_time": "2024-04-29T15:10:33.016951",
     "status": "completed"
    },
    "tags": []
   },
   "outputs": [
    {
     "data": {
      "text/plain": [
       "['Brand', 'Fuel_Type', 'Transmission', 'Owner_Type', 'Model']"
      ]
     },
     "execution_count": 16,
     "metadata": {},
     "output_type": "execute_result"
    }
   ],
   "source": [
    "# Add the model column to categorical\n",
    "if not 'Model' in categorical_cols:\n",
    "    categorical_cols.append('Model')\n",
    "    \n",
    "categorical_cols"
   ]
  },
  {
   "cell_type": "code",
   "execution_count": 17,
   "id": "9957286d",
   "metadata": {
    "execution": {
     "iopub.execute_input": "2024-04-29T15:10:33.071468Z",
     "iopub.status.busy": "2024-04-29T15:10:33.070812Z",
     "iopub.status.idle": "2024-04-29T15:10:33.077942Z",
     "shell.execute_reply": "2024-04-29T15:10:33.076604Z"
    },
    "papermill": {
     "duration": 0.024736,
     "end_time": "2024-04-29T15:10:33.080807",
     "exception": false,
     "start_time": "2024-04-29T15:10:33.056071",
     "status": "completed"
    },
    "tags": []
   },
   "outputs": [],
   "source": [
    "# Keep selected columns only\n",
    "my_cols = categorical_cols + numerical_cols\n",
    "X_train = X_train_full[my_cols].copy()\n",
    "X_valid = X_valid_full[my_cols].copy()"
   ]
  },
  {
   "cell_type": "code",
   "execution_count": 18,
   "id": "ab17f379",
   "metadata": {
    "execution": {
     "iopub.execute_input": "2024-04-29T15:10:33.109811Z",
     "iopub.status.busy": "2024-04-29T15:10:33.109355Z",
     "iopub.status.idle": "2024-04-29T15:10:33.156872Z",
     "shell.execute_reply": "2024-04-29T15:10:33.155145Z"
    },
    "papermill": {
     "duration": 0.065623,
     "end_time": "2024-04-29T15:10:33.159779",
     "exception": false,
     "start_time": "2024-04-29T15:10:33.094156",
     "status": "completed"
    },
    "tags": []
   },
   "outputs": [
    {
     "name": "stdout",
     "output_type": "stream",
     "text": [
      "MAE 163282.30405668318\n"
     ]
    }
   ],
   "source": [
    "from sklearn.compose import ColumnTransformer\n",
    "from sklearn.pipeline import Pipeline\n",
    "from sklearn.impute import SimpleImputer\n",
    "from sklearn.preprocessing import OneHotEncoder\n",
    "from sklearn.linear_model import LinearRegression\n",
    "from sklearn.metrics import mean_absolute_error, r2_score\n",
    "\n",
    "#Preprocessing for numerical data:\n",
    "numerical_transformer = SimpleImputer(strategy='constant')\n",
    "\n",
    "#Preprocessing for categorical data:\n",
    "categorical_transformer = Pipeline(steps=[\n",
    "    ('imputer', SimpleImputer(strategy='most_frequent')),\n",
    "    ('onehot', OneHotEncoder(handle_unknown='ignore'))\n",
    "])\n",
    "\n",
    "#Bundle preprocessing for numericcal and categorical data\n",
    "preprocessor = ColumnTransformer(\n",
    "    transformers=[\n",
    "        ('num', numerical_transformer, numerical_cols),\n",
    "        ('cat', categorical_transformer, categorical_cols)\n",
    "    ])\n",
    "\n",
    "#Define model\n",
    "model = LinearRegression()\n",
    "\n",
    "# Bundle preprocessing and modeling code in a pipeline\n",
    "clf = Pipeline(steps=[('preprocessor', preprocessor),\n",
    "                      ('model', model)\n",
    "                     ])\n",
    "\n",
    "# Preprocessing of training data, fit model\n",
    "clf.fit(X_train, y_train)\n",
    "\n",
    "# Get predictions\n",
    "preds = clf.predict(X_valid)\n",
    "\n",
    "mae_2 = mean_absolute_error(y_valid, preds)\n",
    "\n",
    "print('MAE', mae_2)"
   ]
  },
  {
   "cell_type": "markdown",
   "id": "e8507644",
   "metadata": {
    "papermill": {
     "duration": 0.012833,
     "end_time": "2024-04-29T15:10:33.185993",
     "exception": false,
     "start_time": "2024-04-29T15:10:33.173160",
     "status": "completed"
    },
    "tags": []
   },
   "source": [
    "Out Mean Absolute Error improve "
   ]
  },
  {
   "cell_type": "code",
   "execution_count": 19,
   "id": "5b1c50e7",
   "metadata": {
    "execution": {
     "iopub.execute_input": "2024-04-29T15:10:33.215271Z",
     "iopub.status.busy": "2024-04-29T15:10:33.214833Z",
     "iopub.status.idle": "2024-04-29T15:10:33.222287Z",
     "shell.execute_reply": "2024-04-29T15:10:33.221152Z"
    },
    "papermill": {
     "duration": 0.025575,
     "end_time": "2024-04-29T15:10:33.224788",
     "exception": false,
     "start_time": "2024-04-29T15:10:33.199213",
     "status": "completed"
    },
    "tags": []
   },
   "outputs": [
    {
     "data": {
      "text/plain": [
       "62317.505755006045"
      ]
     },
     "execution_count": 19,
     "metadata": {},
     "output_type": "execute_result"
    }
   ],
   "source": [
    "mae_improvement = mae_1 - mae_2\n",
    "mae_improvement"
   ]
  },
  {
   "cell_type": "code",
   "execution_count": 20,
   "id": "4d6c1012",
   "metadata": {
    "execution": {
     "iopub.execute_input": "2024-04-29T15:10:33.253989Z",
     "iopub.status.busy": "2024-04-29T15:10:33.253507Z",
     "iopub.status.idle": "2024-04-29T15:10:33.261401Z",
     "shell.execute_reply": "2024-04-29T15:10:33.260335Z"
    },
    "papermill": {
     "duration": 0.025312,
     "end_time": "2024-04-29T15:10:33.263913",
     "exception": false,
     "start_time": "2024-04-29T15:10:33.238601",
     "status": "completed"
    },
    "tags": []
   },
   "outputs": [
    {
     "data": {
      "text/plain": [
       "0.27623031157261696"
      ]
     },
     "execution_count": 20,
     "metadata": {},
     "output_type": "execute_result"
    }
   ],
   "source": [
    "mae_improvement_percentage = mae_improvement / mae_1\n",
    "mae_improvement_percentage"
   ]
  },
  {
   "cell_type": "markdown",
   "id": "c439f224",
   "metadata": {
    "papermill": {
     "duration": 0.013507,
     "end_time": "2024-04-29T15:10:33.292049",
     "exception": false,
     "start_time": "2024-04-29T15:10:33.278542",
     "status": "completed"
    },
    "tags": []
   },
   "source": [
    "**Our Mean Absolute Error reduced around 62317, which means a reduction of 27.6% respet to the initial value.**"
   ]
  },
  {
   "cell_type": "code",
   "execution_count": 21,
   "id": "c8ccc2a7",
   "metadata": {
    "execution": {
     "iopub.execute_input": "2024-04-29T15:10:33.322904Z",
     "iopub.status.busy": "2024-04-29T15:10:33.322390Z",
     "iopub.status.idle": "2024-04-29T15:10:33.676290Z",
     "shell.execute_reply": "2024-04-29T15:10:33.675098Z"
    },
    "papermill": {
     "duration": 0.373084,
     "end_time": "2024-04-29T15:10:33.679318",
     "exception": false,
     "start_time": "2024-04-29T15:10:33.306234",
     "status": "completed"
    },
    "tags": []
   },
   "outputs": [
    {
     "data": {
      "image/png": "[encoded data removed]",
      "text/plain": [
       "<Figure size 800x600 with 1 Axes>"
      ]
     },
     "metadata": {},
     "output_type": "display_data"
    }
   ],
   "source": [
    "# Plotting\n",
    "import matplotlib.pyplot as plt\n",
    "plt.figure(figsize=(8, 6))\n",
    "plt.scatter(y_valid, preds, color='blue')  # Scatter plot of actual vs predicted\n",
    "plt.plot([y_data.min(), y_data.max()], [y_data.min(), y_data.max()], 'k--', lw=4)  # Diagonal line where actual = predicted\n",
    "plt.xlabel('Actual Price')\n",
    "plt.ylabel('Predicted Price')\n",
    "plt.title('Actual vs. Predicted Prices')\n",
    "plt.show()"
   ]
  },
  {
   "cell_type": "markdown",
   "id": "862999a8",
   "metadata": {
    "papermill": {
     "duration": 0.014156,
     "end_time": "2024-04-29T15:10:33.708331",
     "exception": false,
     "start_time": "2024-04-29T15:10:33.694175",
     "status": "completed"
    },
    "tags": []
   },
   "source": [
    "# Linear Regression Adding StandarScaler to the Pipeline preprocesssing"
   ]
  },
  {
   "cell_type": "code",
   "execution_count": 22,
   "id": "afd2c9a2",
   "metadata": {
    "execution": {
     "iopub.execute_input": "2024-04-29T15:10:33.739837Z",
     "iopub.status.busy": "2024-04-29T15:10:33.739049Z",
     "iopub.status.idle": "2024-04-29T15:10:33.778309Z",
     "shell.execute_reply": "2024-04-29T15:10:33.777133Z"
    },
    "papermill": {
     "duration": 0.058046,
     "end_time": "2024-04-29T15:10:33.781047",
     "exception": false,
     "start_time": "2024-04-29T15:10:33.723001",
     "status": "completed"
    },
    "tags": []
   },
   "outputs": [
    {
     "name": "stdout",
     "output_type": "stream",
     "text": [
      "MAE 168425.5458671553\n"
     ]
    }
   ],
   "source": [
    "from sklearn.compose import ColumnTransformer\n",
    "from sklearn.pipeline import Pipeline\n",
    "from sklearn.impute import SimpleImputer\n",
    "from sklearn.preprocessing import OneHotEncoder, StandardScaler\n",
    "from sklearn.linear_model import LinearRegression\n",
    "from sklearn.metrics import mean_absolute_error, r2_score\n",
    "\n",
    "#Preprocessing for numerical data:\n",
    "numerical_transformer = Pipeline(steps=[\n",
    "    ('imputer', SimpleImputer(strategy='constant')), \n",
    "    ('scaler', StandardScaler())\n",
    "])\n",
    "\n",
    "#Preprocessing for categorical data:\n",
    "categorical_transformer = Pipeline(steps=[\n",
    "    ('imputer', SimpleImputer(strategy='most_frequent')),\n",
    "    ('onehot', OneHotEncoder(handle_unknown='ignore'))\n",
    "])\n",
    "\n",
    "#Bundle preprocessing for numericcal and categorical data\n",
    "preprocessor = ColumnTransformer(\n",
    "    transformers=[\n",
    "        ('num', numerical_transformer, numerical_cols),\n",
    "        ('cat', categorical_transformer, categorical_cols)\n",
    "    ])\n",
    "\n",
    "#Define model\n",
    "model = LinearRegression()\n",
    "\n",
    "# Bundle preprocessing and modeling code in a pipeline\n",
    "clf = Pipeline(steps=[('preprocessor', preprocessor),\n",
    "                      ('model', model)\n",
    "                     ])\n",
    "\n",
    "# Preprocessing of training data, fit model\n",
    "clf.fit(X_train, y_train)\n",
    "\n",
    "# Get predictions\n",
    "preds = clf.predict(X_valid)\n",
    "\n",
    "mae_3 = mean_absolute_error(y_valid, preds)\n",
    "\n",
    "print('MAE', mae_3)"
   ]
  },
  {
   "cell_type": "markdown",
   "id": "e06d2933",
   "metadata": {
    "papermill": {
     "duration": 0.014726,
     "end_time": "2024-04-29T15:10:33.810898",
     "exception": false,
     "start_time": "2024-04-29T15:10:33.796172",
     "status": "completed"
    },
    "tags": []
   },
   "source": [
    "**Just comparing the previous MAE with the current, the result is a little worse. So we just keep our model without the use of StandarScaler.**"
   ]
  },
  {
   "cell_type": "code",
   "execution_count": null,
   "id": "8adeff1a",
   "metadata": {
    "papermill": {
     "duration": 0.015131,
     "end_time": "2024-04-29T15:10:33.842102",
     "exception": false,
     "start_time": "2024-04-29T15:10:33.826971",
     "status": "completed"
    },
    "tags": []
   },
   "outputs": [],
   "source": []
  }
 ],
 "metadata": {
  "kaggle": {
   "accelerator": "none",
   "dataSources": [
    {
     "datasetId": 4869494,
     "sourceId": 8215633,
     "sourceType": "datasetVersion"
    }
   ],
   "dockerImageVersionId": 30698,
   "isGpuEnabled": false,
   "isInternetEnabled": true,
   "language": "python",
   "sourceType": "notebook"
  },
  "kernelspec": {
   "display_name": "Python 3",
   "language": "python",
   "name": "python3"
  },
  "language_info": {
   "codemirror_mode": {
    "name": "ipython",
    "version": 3
   },
   "file_extension": ".py",
   "mimetype": "text/x-python",
   "name": "python",
   "nbconvert_exporter": "python",
   "pygments_lexer": "ipython3",
   "version": "3.10.13"
  },
  "papermill": {
   "default_parameters": {},
   "duration": 9.29364,
   "end_time": "2024-04-29T15:10:34.580794",
   "environment_variables": {},
   "exception": null,
   "input_path": "__notebook__.ipynb",
   "output_path": "__notebook__.ipynb",
   "parameters": {},
   "start_time": "2024-04-29T15:10:25.287154",
   "version": "2.5.0"
  }
 },
 "nbformat": 4,
 "nbformat_minor": 5
}
