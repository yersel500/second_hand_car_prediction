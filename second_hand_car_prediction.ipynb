{
 "cells": [
  {
   "cell_type": "code",
   "execution_count": 1,
   "id": "6fb6b5a7",
   "metadata": {
    "_cell_guid": "b1076dfc-b9ad-4769-8c92-a6c4dae69d19",
    "_uuid": "8f2839f25d086af736a60e9eeb907d3b93b6e0e5",
    "execution": {
     "iopub.execute_input": "2024-04-29T11:36:38.912570Z",
     "iopub.status.busy": "2024-04-29T11:36:38.911602Z",
     "iopub.status.idle": "2024-04-29T11:36:39.917260Z",
     "shell.execute_reply": "2024-04-29T11:36:39.916256Z"
    },
    "papermill": {
     "duration": 1.018364,
     "end_time": "2024-04-29T11:36:39.920389",
     "exception": false,
     "start_time": "2024-04-29T11:36:38.902025",
     "status": "completed"
    },
    "tags": []
   },
   "outputs": [],
   "source": [
    "import numpy as np # linear algebra\n",
    "import pandas as pd # data processing, CSV file I/O (e.g. pd.read_csv)"
   ]
  },
  {
   "cell_type": "code",
   "execution_count": 2,
   "id": "64318ffa",
   "metadata": {
    "execution": {
     "iopub.execute_input": "2024-04-29T11:36:39.937197Z",
     "iopub.status.busy": "2024-04-29T11:36:39.936312Z",
     "iopub.status.idle": "2024-04-29T11:36:39.984630Z",
     "shell.execute_reply": "2024-04-29T11:36:39.983453Z"
    },
    "papermill": {
     "duration": 0.059403,
     "end_time": "2024-04-29T11:36:39.987243",
     "exception": false,
     "start_time": "2024-04-29T11:36:39.927840",
     "status": "completed"
    },
    "tags": []
   },
   "outputs": [
    {
     "data": {
      "text/html": [
       "<div>\n",
       "<style scoped>\n",
       "    .dataframe tbody tr th:only-of-type {\n",
       "        vertical-align: middle;\n",
       "    }\n",
       "\n",
       "    .dataframe tbody tr th {\n",
       "        vertical-align: top;\n",
       "    }\n",
       "\n",
       "    .dataframe thead th {\n",
       "        text-align: right;\n",
       "    }\n",
       "</style>\n",
       "<table border=\"1\" class=\"dataframe\">\n",
       "  <thead>\n",
       "    <tr style=\"text-align: right;\">\n",
       "      <th></th>\n",
       "      <th>Car_ID</th>\n",
       "      <th>Brand</th>\n",
       "      <th>Model</th>\n",
       "      <th>Year</th>\n",
       "      <th>Kilometers_Driven</th>\n",
       "      <th>Fuel_Type</th>\n",
       "      <th>Transmission</th>\n",
       "      <th>Owner_Type</th>\n",
       "      <th>Mileage</th>\n",
       "      <th>Engine</th>\n",
       "      <th>Power</th>\n",
       "      <th>Seats</th>\n",
       "      <th>Price</th>\n",
       "    </tr>\n",
       "  </thead>\n",
       "  <tbody>\n",
       "    <tr>\n",
       "      <th>0</th>\n",
       "      <td>1</td>\n",
       "      <td>Toyota</td>\n",
       "      <td>Corolla</td>\n",
       "      <td>2018</td>\n",
       "      <td>50000</td>\n",
       "      <td>Petrol</td>\n",
       "      <td>Manual</td>\n",
       "      <td>First</td>\n",
       "      <td>15</td>\n",
       "      <td>1498</td>\n",
       "      <td>108</td>\n",
       "      <td>5</td>\n",
       "      <td>800000</td>\n",
       "    </tr>\n",
       "    <tr>\n",
       "      <th>1</th>\n",
       "      <td>2</td>\n",
       "      <td>Honda</td>\n",
       "      <td>Civic</td>\n",
       "      <td>2019</td>\n",
       "      <td>40000</td>\n",
       "      <td>Petrol</td>\n",
       "      <td>Automatic</td>\n",
       "      <td>Second</td>\n",
       "      <td>17</td>\n",
       "      <td>1597</td>\n",
       "      <td>140</td>\n",
       "      <td>5</td>\n",
       "      <td>1000000</td>\n",
       "    </tr>\n",
       "    <tr>\n",
       "      <th>2</th>\n",
       "      <td>3</td>\n",
       "      <td>Ford</td>\n",
       "      <td>Mustang</td>\n",
       "      <td>2017</td>\n",
       "      <td>20000</td>\n",
       "      <td>Petrol</td>\n",
       "      <td>Automatic</td>\n",
       "      <td>First</td>\n",
       "      <td>10</td>\n",
       "      <td>4951</td>\n",
       "      <td>395</td>\n",
       "      <td>4</td>\n",
       "      <td>2500000</td>\n",
       "    </tr>\n",
       "    <tr>\n",
       "      <th>3</th>\n",
       "      <td>4</td>\n",
       "      <td>Maruti</td>\n",
       "      <td>Swift</td>\n",
       "      <td>2020</td>\n",
       "      <td>30000</td>\n",
       "      <td>Diesel</td>\n",
       "      <td>Manual</td>\n",
       "      <td>Third</td>\n",
       "      <td>23</td>\n",
       "      <td>1248</td>\n",
       "      <td>74</td>\n",
       "      <td>5</td>\n",
       "      <td>600000</td>\n",
       "    </tr>\n",
       "    <tr>\n",
       "      <th>4</th>\n",
       "      <td>5</td>\n",
       "      <td>Hyundai</td>\n",
       "      <td>Sonata</td>\n",
       "      <td>2016</td>\n",
       "      <td>60000</td>\n",
       "      <td>Diesel</td>\n",
       "      <td>Automatic</td>\n",
       "      <td>Second</td>\n",
       "      <td>18</td>\n",
       "      <td>1999</td>\n",
       "      <td>194</td>\n",
       "      <td>5</td>\n",
       "      <td>850000</td>\n",
       "    </tr>\n",
       "    <tr>\n",
       "      <th>5</th>\n",
       "      <td>6</td>\n",
       "      <td>Tata</td>\n",
       "      <td>Nexon</td>\n",
       "      <td>2019</td>\n",
       "      <td>35000</td>\n",
       "      <td>Petrol</td>\n",
       "      <td>Manual</td>\n",
       "      <td>First</td>\n",
       "      <td>17</td>\n",
       "      <td>1198</td>\n",
       "      <td>108</td>\n",
       "      <td>5</td>\n",
       "      <td>750000</td>\n",
       "    </tr>\n",
       "    <tr>\n",
       "      <th>6</th>\n",
       "      <td>7</td>\n",
       "      <td>Mahindra</td>\n",
       "      <td>Scorpio</td>\n",
       "      <td>2018</td>\n",
       "      <td>45000</td>\n",
       "      <td>Diesel</td>\n",
       "      <td>Automatic</td>\n",
       "      <td>Second</td>\n",
       "      <td>15</td>\n",
       "      <td>2179</td>\n",
       "      <td>140</td>\n",
       "      <td>7</td>\n",
       "      <td>900000</td>\n",
       "    </tr>\n",
       "    <tr>\n",
       "      <th>7</th>\n",
       "      <td>8</td>\n",
       "      <td>Volkswagen</td>\n",
       "      <td>Polo</td>\n",
       "      <td>2020</td>\n",
       "      <td>25000</td>\n",
       "      <td>Petrol</td>\n",
       "      <td>Automatic</td>\n",
       "      <td>First</td>\n",
       "      <td>18</td>\n",
       "      <td>999</td>\n",
       "      <td>76</td>\n",
       "      <td>5</td>\n",
       "      <td>650000</td>\n",
       "    </tr>\n",
       "    <tr>\n",
       "      <th>8</th>\n",
       "      <td>9</td>\n",
       "      <td>Audi</td>\n",
       "      <td>A4</td>\n",
       "      <td>2017</td>\n",
       "      <td>30000</td>\n",
       "      <td>Diesel</td>\n",
       "      <td>Automatic</td>\n",
       "      <td>First</td>\n",
       "      <td>18</td>\n",
       "      <td>1968</td>\n",
       "      <td>187</td>\n",
       "      <td>5</td>\n",
       "      <td>2200000</td>\n",
       "    </tr>\n",
       "    <tr>\n",
       "      <th>9</th>\n",
       "      <td>10</td>\n",
       "      <td>BMW</td>\n",
       "      <td>X1</td>\n",
       "      <td>2019</td>\n",
       "      <td>20000</td>\n",
       "      <td>Diesel</td>\n",
       "      <td>Automatic</td>\n",
       "      <td>Second</td>\n",
       "      <td>20</td>\n",
       "      <td>1995</td>\n",
       "      <td>190</td>\n",
       "      <td>5</td>\n",
       "      <td>2700000</td>\n",
       "    </tr>\n",
       "  </tbody>\n",
       "</table>\n",
       "</div>"
      ],
      "text/plain": [
       "   Car_ID       Brand    Model  Year  Kilometers_Driven Fuel_Type  \\\n",
       "0       1      Toyota  Corolla  2018              50000    Petrol   \n",
       "1       2       Honda    Civic  2019              40000    Petrol   \n",
       "2       3        Ford  Mustang  2017              20000    Petrol   \n",
       "3       4      Maruti    Swift  2020              30000    Diesel   \n",
       "4       5     Hyundai   Sonata  2016              60000    Diesel   \n",
       "5       6        Tata    Nexon  2019              35000    Petrol   \n",
       "6       7    Mahindra  Scorpio  2018              45000    Diesel   \n",
       "7       8  Volkswagen     Polo  2020              25000    Petrol   \n",
       "8       9        Audi       A4  2017              30000    Diesel   \n",
       "9      10         BMW       X1  2019              20000    Diesel   \n",
       "\n",
       "  Transmission Owner_Type  Mileage  Engine  Power  Seats    Price  \n",
       "0       Manual      First       15    1498    108      5   800000  \n",
       "1    Automatic     Second       17    1597    140      5  1000000  \n",
       "2    Automatic      First       10    4951    395      4  2500000  \n",
       "3       Manual      Third       23    1248     74      5   600000  \n",
       "4    Automatic     Second       18    1999    194      5   850000  \n",
       "5       Manual      First       17    1198    108      5   750000  \n",
       "6    Automatic     Second       15    2179    140      7   900000  \n",
       "7    Automatic      First       18     999     76      5   650000  \n",
       "8    Automatic      First       18    1968    187      5  2200000  \n",
       "9    Automatic     Second       20    1995    190      5  2700000  "
      ]
     },
     "execution_count": 2,
     "metadata": {},
     "output_type": "execute_result"
    }
   ],
   "source": [
    "path = \"/kaggle/input/second-hand-car-price-prediction/cars.csv\"\n",
    "\n",
    "cars_data = pd.read_csv(path)\n",
    "cars_data.head(10)"
   ]
  },
  {
   "cell_type": "code",
   "execution_count": 3,
   "id": "f4ba8ace",
   "metadata": {
    "execution": {
     "iopub.execute_input": "2024-04-29T11:36:40.004900Z",
     "iopub.status.busy": "2024-04-29T11:36:40.004529Z",
     "iopub.status.idle": "2024-04-29T11:36:40.011850Z",
     "shell.execute_reply": "2024-04-29T11:36:40.010657Z"
    },
    "papermill": {
     "duration": 0.019031,
     "end_time": "2024-04-29T11:36:40.014137",
     "exception": false,
     "start_time": "2024-04-29T11:36:39.995106",
     "status": "completed"
    },
    "tags": []
   },
   "outputs": [
    {
     "data": {
      "text/plain": [
       "(100, 13)"
      ]
     },
     "execution_count": 3,
     "metadata": {},
     "output_type": "execute_result"
    }
   ],
   "source": [
    "cars_data.shape"
   ]
  },
  {
   "cell_type": "code",
   "execution_count": 4,
   "id": "52bfc1b0",
   "metadata": {
    "execution": {
     "iopub.execute_input": "2024-04-29T11:36:40.031624Z",
     "iopub.status.busy": "2024-04-29T11:36:40.031221Z",
     "iopub.status.idle": "2024-04-29T11:36:40.040860Z",
     "shell.execute_reply": "2024-04-29T11:36:40.040089Z"
    },
    "papermill": {
     "duration": 0.020856,
     "end_time": "2024-04-29T11:36:40.042854",
     "exception": false,
     "start_time": "2024-04-29T11:36:40.021998",
     "status": "completed"
    },
    "tags": []
   },
   "outputs": [
    {
     "data": {
      "text/plain": [
       "0"
      ]
     },
     "execution_count": 4,
     "metadata": {},
     "output_type": "execute_result"
    }
   ],
   "source": [
    "# Check rows with missing targets\n",
    "cars_data['Price'].isna().sum()"
   ]
  },
  {
   "cell_type": "code",
   "execution_count": 5,
   "id": "c7f3413b",
   "metadata": {
    "execution": {
     "iopub.execute_input": "2024-04-29T11:36:40.060792Z",
     "iopub.status.busy": "2024-04-29T11:36:40.060375Z",
     "iopub.status.idle": "2024-04-29T11:36:40.081848Z",
     "shell.execute_reply": "2024-04-29T11:36:40.080823Z"
    },
    "papermill": {
     "duration": 0.0334,
     "end_time": "2024-04-29T11:36:40.084254",
     "exception": false,
     "start_time": "2024-04-29T11:36:40.050854",
     "status": "completed"
    },
    "tags": []
   },
   "outputs": [
    {
     "data": {
      "text/html": [
       "<div>\n",
       "<style scoped>\n",
       "    .dataframe tbody tr th:only-of-type {\n",
       "        vertical-align: middle;\n",
       "    }\n",
       "\n",
       "    .dataframe tbody tr th {\n",
       "        vertical-align: top;\n",
       "    }\n",
       "\n",
       "    .dataframe thead th {\n",
       "        text-align: right;\n",
       "    }\n",
       "</style>\n",
       "<table border=\"1\" class=\"dataframe\">\n",
       "  <thead>\n",
       "    <tr style=\"text-align: right;\">\n",
       "      <th></th>\n",
       "      <th>Car_ID</th>\n",
       "      <th>Brand</th>\n",
       "      <th>Model</th>\n",
       "      <th>Year</th>\n",
       "      <th>Kilometers_Driven</th>\n",
       "      <th>Fuel_Type</th>\n",
       "      <th>Transmission</th>\n",
       "      <th>Owner_Type</th>\n",
       "      <th>Mileage</th>\n",
       "      <th>Engine</th>\n",
       "      <th>Power</th>\n",
       "      <th>Seats</th>\n",
       "    </tr>\n",
       "  </thead>\n",
       "  <tbody>\n",
       "    <tr>\n",
       "      <th>0</th>\n",
       "      <td>1</td>\n",
       "      <td>Toyota</td>\n",
       "      <td>Corolla</td>\n",
       "      <td>2018</td>\n",
       "      <td>50000</td>\n",
       "      <td>Petrol</td>\n",
       "      <td>Manual</td>\n",
       "      <td>First</td>\n",
       "      <td>15</td>\n",
       "      <td>1498</td>\n",
       "      <td>108</td>\n",
       "      <td>5</td>\n",
       "    </tr>\n",
       "    <tr>\n",
       "      <th>1</th>\n",
       "      <td>2</td>\n",
       "      <td>Honda</td>\n",
       "      <td>Civic</td>\n",
       "      <td>2019</td>\n",
       "      <td>40000</td>\n",
       "      <td>Petrol</td>\n",
       "      <td>Automatic</td>\n",
       "      <td>Second</td>\n",
       "      <td>17</td>\n",
       "      <td>1597</td>\n",
       "      <td>140</td>\n",
       "      <td>5</td>\n",
       "    </tr>\n",
       "    <tr>\n",
       "      <th>2</th>\n",
       "      <td>3</td>\n",
       "      <td>Ford</td>\n",
       "      <td>Mustang</td>\n",
       "      <td>2017</td>\n",
       "      <td>20000</td>\n",
       "      <td>Petrol</td>\n",
       "      <td>Automatic</td>\n",
       "      <td>First</td>\n",
       "      <td>10</td>\n",
       "      <td>4951</td>\n",
       "      <td>395</td>\n",
       "      <td>4</td>\n",
       "    </tr>\n",
       "    <tr>\n",
       "      <th>3</th>\n",
       "      <td>4</td>\n",
       "      <td>Maruti</td>\n",
       "      <td>Swift</td>\n",
       "      <td>2020</td>\n",
       "      <td>30000</td>\n",
       "      <td>Diesel</td>\n",
       "      <td>Manual</td>\n",
       "      <td>Third</td>\n",
       "      <td>23</td>\n",
       "      <td>1248</td>\n",
       "      <td>74</td>\n",
       "      <td>5</td>\n",
       "    </tr>\n",
       "    <tr>\n",
       "      <th>4</th>\n",
       "      <td>5</td>\n",
       "      <td>Hyundai</td>\n",
       "      <td>Sonata</td>\n",
       "      <td>2016</td>\n",
       "      <td>60000</td>\n",
       "      <td>Diesel</td>\n",
       "      <td>Automatic</td>\n",
       "      <td>Second</td>\n",
       "      <td>18</td>\n",
       "      <td>1999</td>\n",
       "      <td>194</td>\n",
       "      <td>5</td>\n",
       "    </tr>\n",
       "  </tbody>\n",
       "</table>\n",
       "</div>"
      ],
      "text/plain": [
       "   Car_ID    Brand    Model  Year  Kilometers_Driven Fuel_Type Transmission  \\\n",
       "0       1   Toyota  Corolla  2018              50000    Petrol       Manual   \n",
       "1       2    Honda    Civic  2019              40000    Petrol    Automatic   \n",
       "2       3     Ford  Mustang  2017              20000    Petrol    Automatic   \n",
       "3       4   Maruti    Swift  2020              30000    Diesel       Manual   \n",
       "4       5  Hyundai   Sonata  2016              60000    Diesel    Automatic   \n",
       "\n",
       "  Owner_Type  Mileage  Engine  Power  Seats  \n",
       "0      First       15    1498    108      5  \n",
       "1     Second       17    1597    140      5  \n",
       "2      First       10    4951    395      4  \n",
       "3      Third       23    1248     74      5  \n",
       "4     Second       18    1999    194      5  "
      ]
     },
     "execution_count": 5,
     "metadata": {},
     "output_type": "execute_result"
    }
   ],
   "source": [
    "X_data = cars_data.copy()\n",
    "y_data = X_data.Price\n",
    "X_data.drop(['Price'], axis=1, inplace=True)\n",
    "X_data.head()"
   ]
  },
  {
   "cell_type": "markdown",
   "id": "cc6b8284",
   "metadata": {
    "papermill": {
     "duration": 0.008024,
     "end_time": "2024-04-29T11:36:40.100689",
     "exception": false,
     "start_time": "2024-04-29T11:36:40.092665",
     "status": "completed"
    },
    "tags": []
   },
   "source": [
    "It means that all rows have targets, so we don't need to delete any row"
   ]
  },
  {
   "cell_type": "code",
   "execution_count": 6,
   "id": "5337983d",
   "metadata": {
    "execution": {
     "iopub.execute_input": "2024-04-29T11:36:40.119013Z",
     "iopub.status.busy": "2024-04-29T11:36:40.118600Z",
     "iopub.status.idle": "2024-04-29T11:36:40.135787Z",
     "shell.execute_reply": "2024-04-29T11:36:40.134656Z"
    },
    "papermill": {
     "duration": 0.029494,
     "end_time": "2024-04-29T11:36:40.138397",
     "exception": false,
     "start_time": "2024-04-29T11:36:40.108903",
     "status": "completed"
    },
    "tags": []
   },
   "outputs": [
    {
     "data": {
      "text/html": [
       "<div>\n",
       "<style scoped>\n",
       "    .dataframe tbody tr th:only-of-type {\n",
       "        vertical-align: middle;\n",
       "    }\n",
       "\n",
       "    .dataframe tbody tr th {\n",
       "        vertical-align: top;\n",
       "    }\n",
       "\n",
       "    .dataframe thead th {\n",
       "        text-align: right;\n",
       "    }\n",
       "</style>\n",
       "<table border=\"1\" class=\"dataframe\">\n",
       "  <thead>\n",
       "    <tr style=\"text-align: right;\">\n",
       "      <th></th>\n",
       "      <th>Brand</th>\n",
       "      <th>Model</th>\n",
       "      <th>Year</th>\n",
       "      <th>Kilometers_Driven</th>\n",
       "      <th>Fuel_Type</th>\n",
       "      <th>Transmission</th>\n",
       "      <th>Owner_Type</th>\n",
       "      <th>Mileage</th>\n",
       "      <th>Engine</th>\n",
       "      <th>Power</th>\n",
       "      <th>Seats</th>\n",
       "    </tr>\n",
       "  </thead>\n",
       "  <tbody>\n",
       "    <tr>\n",
       "      <th>0</th>\n",
       "      <td>Toyota</td>\n",
       "      <td>Corolla</td>\n",
       "      <td>2018</td>\n",
       "      <td>50000</td>\n",
       "      <td>Petrol</td>\n",
       "      <td>Manual</td>\n",
       "      <td>First</td>\n",
       "      <td>15</td>\n",
       "      <td>1498</td>\n",
       "      <td>108</td>\n",
       "      <td>5</td>\n",
       "    </tr>\n",
       "    <tr>\n",
       "      <th>1</th>\n",
       "      <td>Honda</td>\n",
       "      <td>Civic</td>\n",
       "      <td>2019</td>\n",
       "      <td>40000</td>\n",
       "      <td>Petrol</td>\n",
       "      <td>Automatic</td>\n",
       "      <td>Second</td>\n",
       "      <td>17</td>\n",
       "      <td>1597</td>\n",
       "      <td>140</td>\n",
       "      <td>5</td>\n",
       "    </tr>\n",
       "    <tr>\n",
       "      <th>2</th>\n",
       "      <td>Ford</td>\n",
       "      <td>Mustang</td>\n",
       "      <td>2017</td>\n",
       "      <td>20000</td>\n",
       "      <td>Petrol</td>\n",
       "      <td>Automatic</td>\n",
       "      <td>First</td>\n",
       "      <td>10</td>\n",
       "      <td>4951</td>\n",
       "      <td>395</td>\n",
       "      <td>4</td>\n",
       "    </tr>\n",
       "    <tr>\n",
       "      <th>3</th>\n",
       "      <td>Maruti</td>\n",
       "      <td>Swift</td>\n",
       "      <td>2020</td>\n",
       "      <td>30000</td>\n",
       "      <td>Diesel</td>\n",
       "      <td>Manual</td>\n",
       "      <td>Third</td>\n",
       "      <td>23</td>\n",
       "      <td>1248</td>\n",
       "      <td>74</td>\n",
       "      <td>5</td>\n",
       "    </tr>\n",
       "    <tr>\n",
       "      <th>4</th>\n",
       "      <td>Hyundai</td>\n",
       "      <td>Sonata</td>\n",
       "      <td>2016</td>\n",
       "      <td>60000</td>\n",
       "      <td>Diesel</td>\n",
       "      <td>Automatic</td>\n",
       "      <td>Second</td>\n",
       "      <td>18</td>\n",
       "      <td>1999</td>\n",
       "      <td>194</td>\n",
       "      <td>5</td>\n",
       "    </tr>\n",
       "  </tbody>\n",
       "</table>\n",
       "</div>"
      ],
      "text/plain": [
       "     Brand    Model  Year  Kilometers_Driven Fuel_Type Transmission  \\\n",
       "0   Toyota  Corolla  2018              50000    Petrol       Manual   \n",
       "1    Honda    Civic  2019              40000    Petrol    Automatic   \n",
       "2     Ford  Mustang  2017              20000    Petrol    Automatic   \n",
       "3   Maruti    Swift  2020              30000    Diesel       Manual   \n",
       "4  Hyundai   Sonata  2016              60000    Diesel    Automatic   \n",
       "\n",
       "  Owner_Type  Mileage  Engine  Power  Seats  \n",
       "0      First       15    1498    108      5  \n",
       "1     Second       17    1597    140      5  \n",
       "2      First       10    4951    395      4  \n",
       "3      Third       23    1248     74      5  \n",
       "4     Second       18    1999    194      5  "
      ]
     },
     "execution_count": 6,
     "metadata": {},
     "output_type": "execute_result"
    }
   ],
   "source": [
    "# Delete the Car_ID column, since the purpose of it is only ordering the rows\n",
    "X_data.drop(['Car_ID'], axis=1, inplace=True)\n",
    "X_data.head()"
   ]
  },
  {
   "cell_type": "markdown",
   "id": "fff226d4",
   "metadata": {
    "papermill": {
     "duration": 0.008351,
     "end_time": "2024-04-29T11:36:40.155294",
     "exception": false,
     "start_time": "2024-04-29T11:36:40.146943",
     "status": "completed"
    },
    "tags": []
   },
   "source": [
    "# Linear Regression"
   ]
  },
  {
   "cell_type": "code",
   "execution_count": 7,
   "id": "3b66b76e",
   "metadata": {
    "execution": {
     "iopub.execute_input": "2024-04-29T11:36:40.174923Z",
     "iopub.status.busy": "2024-04-29T11:36:40.174277Z",
     "iopub.status.idle": "2024-04-29T11:36:41.614759Z",
     "shell.execute_reply": "2024-04-29T11:36:41.613393Z"
    },
    "papermill": {
     "duration": 1.453669,
     "end_time": "2024-04-29T11:36:41.617671",
     "exception": false,
     "start_time": "2024-04-29T11:36:40.164002",
     "status": "completed"
    },
    "tags": []
   },
   "outputs": [],
   "source": [
    "# Break off validation data from training data\n",
    "from sklearn.model_selection import train_test_split\n",
    "\n",
    "X_train_full, X_valid_full, y_train, y_valid = train_test_split(X_data, y_data, train_size=0.7,\n",
    "                                                     test_size=0.3, random_state=0)"
   ]
  },
  {
   "cell_type": "code",
   "execution_count": 8,
   "id": "4106ac84",
   "metadata": {
    "execution": {
     "iopub.execute_input": "2024-04-29T11:36:41.639056Z",
     "iopub.status.busy": "2024-04-29T11:36:41.638653Z",
     "iopub.status.idle": "2024-04-29T11:36:41.653121Z",
     "shell.execute_reply": "2024-04-29T11:36:41.651931Z"
    },
    "papermill": {
     "duration": 0.028812,
     "end_time": "2024-04-29T11:36:41.655595",
     "exception": false,
     "start_time": "2024-04-29T11:36:41.626783",
     "status": "completed"
    },
    "tags": []
   },
   "outputs": [
    {
     "data": {
      "text/plain": [
       "['Brand', 'Fuel_Type', 'Transmission', 'Owner_Type']"
      ]
     },
     "execution_count": 8,
     "metadata": {},
     "output_type": "execute_result"
    }
   ],
   "source": [
    "# Identify categoricl and numerical columns:\n",
    "# Select categorical cols\n",
    "categorical_cols = [cname for cname in X_train_full.columns if\n",
    "                   X_train_full[cname].nunique() < 15 and\n",
    "                   X_train_full[cname].dtype == \"object\"]\n",
    "categorical_cols"
   ]
  },
  {
   "cell_type": "code",
   "execution_count": 9,
   "id": "9234ec0b",
   "metadata": {
    "execution": {
     "iopub.execute_input": "2024-04-29T11:36:41.675000Z",
     "iopub.status.busy": "2024-04-29T11:36:41.674630Z",
     "iopub.status.idle": "2024-04-29T11:36:41.682699Z",
     "shell.execute_reply": "2024-04-29T11:36:41.681535Z"
    },
    "papermill": {
     "duration": 0.020648,
     "end_time": "2024-04-29T11:36:41.685089",
     "exception": false,
     "start_time": "2024-04-29T11:36:41.664441",
     "status": "completed"
    },
    "tags": []
   },
   "outputs": [
    {
     "data": {
      "text/plain": [
       "['Year', 'Kilometers_Driven', 'Mileage', 'Engine', 'Power', 'Seats']"
      ]
     },
     "execution_count": 9,
     "metadata": {},
     "output_type": "execute_result"
    }
   ],
   "source": [
    "# Select numerical cols\n",
    "numerical_cols = [cname for cname in X_train_full.columns if\n",
    "                 X_train_full[cname].dtype in ['int64', 'float64']]\n",
    "numerical_cols"
   ]
  },
  {
   "cell_type": "markdown",
   "id": "9fed8518",
   "metadata": {
    "papermill": {
     "duration": 0.008804,
     "end_time": "2024-04-29T11:36:41.702781",
     "exception": false,
     "start_time": "2024-04-29T11:36:41.693977",
     "status": "completed"
    },
    "tags": []
   },
   "source": [
    "We are missing the Brand model, let's analyize to check how many unique values we have on it"
   ]
  },
  {
   "cell_type": "code",
   "execution_count": 10,
   "id": "d3f465f5",
   "metadata": {
    "execution": {
     "iopub.execute_input": "2024-04-29T11:36:41.722226Z",
     "iopub.status.busy": "2024-04-29T11:36:41.721856Z",
     "iopub.status.idle": "2024-04-29T11:36:41.728448Z",
     "shell.execute_reply": "2024-04-29T11:36:41.727727Z"
    },
    "papermill": {
     "duration": 0.020338,
     "end_time": "2024-04-29T11:36:41.732152",
     "exception": false,
     "start_time": "2024-04-29T11:36:41.711814",
     "status": "completed"
    },
    "tags": []
   },
   "outputs": [
    {
     "data": {
      "text/plain": [
       "array(['Verna', 'Tigor', 'Tiago', 'Aspire', 'Venue', 'X3', '5 Series',\n",
       "       '3 Series', 'Passat', 'A3', 'Civic', 'Altroz', 'Santro', 'Sonata',\n",
       "       'City', 'Q3', 'Ranger', 'GLE', 'Nexon', 'XUV300', 'EcoSport',\n",
       "       'Corolla', 'WR-V', 'E-Class', 'Mustang', 'Endeavour', 'Ameo',\n",
       "       'C-Class', 'Elantra', 'X5', 'Safari', 'Q7', 'Ertiga', 'GLC',\n",
       "       'Fortuner', 'Camry', 'Innova', 'Yaris', '7 Series', 'S-Cross',\n",
       "       'Innova Crysta', 'Creta', 'Figo', 'T-Roc', 'X1', 'A6', 'BR-V'],\n",
       "      dtype=object)"
      ]
     },
     "execution_count": 10,
     "metadata": {},
     "output_type": "execute_result"
    }
   ],
   "source": [
    "X_train_full['Model'].unique()"
   ]
  },
  {
   "cell_type": "code",
   "execution_count": 11,
   "id": "8bec9274",
   "metadata": {
    "execution": {
     "iopub.execute_input": "2024-04-29T11:36:41.755979Z",
     "iopub.status.busy": "2024-04-29T11:36:41.755614Z",
     "iopub.status.idle": "2024-04-29T11:36:41.762103Z",
     "shell.execute_reply": "2024-04-29T11:36:41.761119Z"
    },
    "papermill": {
     "duration": 0.020318,
     "end_time": "2024-04-29T11:36:41.764604",
     "exception": false,
     "start_time": "2024-04-29T11:36:41.744286",
     "status": "completed"
    },
    "tags": []
   },
   "outputs": [
    {
     "data": {
      "text/plain": [
       "47"
      ]
     },
     "execution_count": 11,
     "metadata": {},
     "output_type": "execute_result"
    }
   ],
   "source": [
    "X_train_full['Model'].nunique()"
   ]
  },
  {
   "cell_type": "markdown",
   "id": "d340c0c2",
   "metadata": {
    "papermill": {
     "duration": 0.008933,
     "end_time": "2024-04-29T11:36:41.783045",
     "exception": false,
     "start_time": "2024-04-29T11:36:41.774112",
     "status": "completed"
    },
    "tags": []
   },
   "source": [
    "Due the the high cardinality of Model column, for now we won't consider this column. Later we'll include it to see its effect in the performance of the model"
   ]
  },
  {
   "cell_type": "code",
   "execution_count": 12,
   "id": "873fbe0b",
   "metadata": {
    "execution": {
     "iopub.execute_input": "2024-04-29T11:36:41.804521Z",
     "iopub.status.busy": "2024-04-29T11:36:41.804012Z",
     "iopub.status.idle": "2024-04-29T11:36:41.812822Z",
     "shell.execute_reply": "2024-04-29T11:36:41.811538Z"
    },
    "papermill": {
     "duration": 0.023249,
     "end_time": "2024-04-29T11:36:41.815549",
     "exception": false,
     "start_time": "2024-04-29T11:36:41.792300",
     "status": "completed"
    },
    "tags": []
   },
   "outputs": [],
   "source": [
    "# Keep selected columns only\n",
    "my_cols = categorical_cols + numerical_cols\n",
    "X_train = X_train_full[my_cols].copy()\n",
    "X_valid = X_valid_full[my_cols].copy()"
   ]
  },
  {
   "cell_type": "code",
   "execution_count": 13,
   "id": "977f8409",
   "metadata": {
    "execution": {
     "iopub.execute_input": "2024-04-29T11:36:41.837519Z",
     "iopub.status.busy": "2024-04-29T11:36:41.837069Z",
     "iopub.status.idle": "2024-04-29T11:36:41.853213Z",
     "shell.execute_reply": "2024-04-29T11:36:41.851834Z"
    },
    "papermill": {
     "duration": 0.029906,
     "end_time": "2024-04-29T11:36:41.855832",
     "exception": false,
     "start_time": "2024-04-29T11:36:41.825926",
     "status": "completed"
    },
    "tags": []
   },
   "outputs": [
    {
     "data": {
      "text/html": [
       "<div>\n",
       "<style scoped>\n",
       "    .dataframe tbody tr th:only-of-type {\n",
       "        vertical-align: middle;\n",
       "    }\n",
       "\n",
       "    .dataframe tbody tr th {\n",
       "        vertical-align: top;\n",
       "    }\n",
       "\n",
       "    .dataframe thead th {\n",
       "        text-align: right;\n",
       "    }\n",
       "</style>\n",
       "<table border=\"1\" class=\"dataframe\">\n",
       "  <thead>\n",
       "    <tr style=\"text-align: right;\">\n",
       "      <th></th>\n",
       "      <th>Brand</th>\n",
       "      <th>Fuel_Type</th>\n",
       "      <th>Transmission</th>\n",
       "      <th>Owner_Type</th>\n",
       "      <th>Year</th>\n",
       "      <th>Kilometers_Driven</th>\n",
       "      <th>Mileage</th>\n",
       "      <th>Engine</th>\n",
       "      <th>Power</th>\n",
       "      <th>Seats</th>\n",
       "    </tr>\n",
       "  </thead>\n",
       "  <tbody>\n",
       "    <tr>\n",
       "      <th>60</th>\n",
       "      <td>Hyundai</td>\n",
       "      <td>Petrol</td>\n",
       "      <td>Automatic</td>\n",
       "      <td>Second</td>\n",
       "      <td>2019</td>\n",
       "      <td>24000</td>\n",
       "      <td>17</td>\n",
       "      <td>1497</td>\n",
       "      <td>113</td>\n",
       "      <td>5</td>\n",
       "    </tr>\n",
       "    <tr>\n",
       "      <th>80</th>\n",
       "      <td>Tata</td>\n",
       "      <td>Diesel</td>\n",
       "      <td>Manual</td>\n",
       "      <td>First</td>\n",
       "      <td>2018</td>\n",
       "      <td>42000</td>\n",
       "      <td>24</td>\n",
       "      <td>1047</td>\n",
       "      <td>69</td>\n",
       "      <td>5</td>\n",
       "    </tr>\n",
       "    <tr>\n",
       "      <th>90</th>\n",
       "      <td>Tata</td>\n",
       "      <td>Petrol</td>\n",
       "      <td>Manual</td>\n",
       "      <td>First</td>\n",
       "      <td>2020</td>\n",
       "      <td>18000</td>\n",
       "      <td>23</td>\n",
       "      <td>1199</td>\n",
       "      <td>84</td>\n",
       "      <td>5</td>\n",
       "    </tr>\n",
       "    <tr>\n",
       "      <th>68</th>\n",
       "      <td>Ford</td>\n",
       "      <td>Petrol</td>\n",
       "      <td>Manual</td>\n",
       "      <td>Third</td>\n",
       "      <td>2019</td>\n",
       "      <td>26000</td>\n",
       "      <td>20</td>\n",
       "      <td>1194</td>\n",
       "      <td>94</td>\n",
       "      <td>5</td>\n",
       "    </tr>\n",
       "    <tr>\n",
       "      <th>51</th>\n",
       "      <td>Hyundai</td>\n",
       "      <td>Petrol</td>\n",
       "      <td>Manual</td>\n",
       "      <td>Third</td>\n",
       "      <td>2018</td>\n",
       "      <td>32000</td>\n",
       "      <td>17</td>\n",
       "      <td>1197</td>\n",
       "      <td>81</td>\n",
       "      <td>5</td>\n",
       "    </tr>\n",
       "  </tbody>\n",
       "</table>\n",
       "</div>"
      ],
      "text/plain": [
       "      Brand Fuel_Type Transmission Owner_Type  Year  Kilometers_Driven  \\\n",
       "60  Hyundai    Petrol    Automatic     Second  2019              24000   \n",
       "80     Tata    Diesel       Manual      First  2018              42000   \n",
       "90     Tata    Petrol       Manual      First  2020              18000   \n",
       "68     Ford    Petrol       Manual      Third  2019              26000   \n",
       "51  Hyundai    Petrol       Manual      Third  2018              32000   \n",
       "\n",
       "    Mileage  Engine  Power  Seats  \n",
       "60       17    1497    113      5  \n",
       "80       24    1047     69      5  \n",
       "90       23    1199     84      5  \n",
       "68       20    1194     94      5  \n",
       "51       17    1197     81      5  "
      ]
     },
     "execution_count": 13,
     "metadata": {},
     "output_type": "execute_result"
    }
   ],
   "source": [
    "X_train.head()"
   ]
  },
  {
   "cell_type": "markdown",
   "id": "bed505f3",
   "metadata": {
    "papermill": {
     "duration": 0.009191,
     "end_time": "2024-04-29T11:36:41.874651",
     "exception": false,
     "start_time": "2024-04-29T11:36:41.865460",
     "status": "completed"
    },
    "tags": []
   },
   "source": [
    "Use of pipelines"
   ]
  },
  {
   "cell_type": "code",
   "execution_count": 14,
   "id": "ece0bb6e",
   "metadata": {
    "execution": {
     "iopub.execute_input": "2024-04-29T11:36:41.895824Z",
     "iopub.status.busy": "2024-04-29T11:36:41.895326Z",
     "iopub.status.idle": "2024-04-29T11:36:42.205130Z",
     "shell.execute_reply": "2024-04-29T11:36:42.203707Z"
    },
    "papermill": {
     "duration": 0.323813,
     "end_time": "2024-04-29T11:36:42.207920",
     "exception": false,
     "start_time": "2024-04-29T11:36:41.884107",
     "status": "completed"
    },
    "tags": []
   },
   "outputs": [
    {
     "name": "stdout",
     "output_type": "stream",
     "text": [
      "MAE 225599.80981168922\n"
     ]
    }
   ],
   "source": [
    "from sklearn.compose import ColumnTransformer\n",
    "from sklearn.pipeline import Pipeline\n",
    "from sklearn.impute import SimpleImputer\n",
    "from sklearn.preprocessing import OneHotEncoder\n",
    "from sklearn.linear_model import LinearRegression\n",
    "from sklearn.metrics import mean_absolute_error, r2_score\n",
    "\n",
    "#Preprocessing for numerical data:\n",
    "numerical_transformer = SimpleImputer(strategy='constant')\n",
    "\n",
    "#Preprocessing for categorical data:\n",
    "categorical_transformer = Pipeline(steps=[\n",
    "    ('imputer', SimpleImputer(strategy='most_frequent')),\n",
    "    ('onehot', OneHotEncoder(handle_unknown='ignore'))\n",
    "])\n",
    "\n",
    "#Bundle preprocessing for numericcal and categorical data\n",
    "preprocessor = ColumnTransformer(\n",
    "    transformers=[\n",
    "        ('num', numerical_transformer, numerical_cols),\n",
    "        ('cat', categorical_transformer, categorical_cols)\n",
    "    ])\n",
    "\n",
    "#Define model\n",
    "model = LinearRegression()\n",
    "\n",
    "# Bundle preprocessing and modeling code in a pipeline\n",
    "clf = Pipeline(steps=[('preprocessor', preprocessor),\n",
    "                      ('model', model)\n",
    "                     ])\n",
    "\n",
    "# Preprocessing of training data, fit model\n",
    "clf.fit(X_train, y_train)\n",
    "\n",
    "# Get predictions\n",
    "preds = clf.predict(X_valid)\n",
    "\n",
    "print('MAE', mean_absolute_error(y_valid, preds))"
   ]
  },
  {
   "cell_type": "code",
   "execution_count": 15,
   "id": "e4c30817",
   "metadata": {
    "execution": {
     "iopub.execute_input": "2024-04-29T11:36:42.230513Z",
     "iopub.status.busy": "2024-04-29T11:36:42.229409Z",
     "iopub.status.idle": "2024-04-29T11:36:42.616694Z",
     "shell.execute_reply": "2024-04-29T11:36:42.615255Z"
    },
    "papermill": {
     "duration": 0.401632,
     "end_time": "2024-04-29T11:36:42.619559",
     "exception": false,
     "start_time": "2024-04-29T11:36:42.217927",
     "status": "completed"
    },
    "tags": []
   },
   "outputs": [
    {
     "data": {
      "image/png": "[encoded data removed]",
      "text/plain": [
       "<Figure size 800x600 with 1 Axes>"
      ]
     },
     "metadata": {},
     "output_type": "display_data"
    }
   ],
   "source": [
    "# Plotting\n",
    "import matplotlib.pyplot as plt\n",
    "plt.figure(figsize=(8, 6))\n",
    "plt.scatter(y_valid, preds, color='blue')  # Scatter plot of actual vs predicted\n",
    "plt.plot([y_data.min(), y_data.max()], [y_data.min(), y_data.max()], 'k--', lw=4)  # Diagonal line where actual = predicted\n",
    "plt.xlabel('Actual Price')\n",
    "plt.ylabel('Predicted Price')\n",
    "plt.title('Actual vs. Predicted Prices')\n",
    "plt.show()"
   ]
  },
  {
   "cell_type": "code",
   "execution_count": 16,
   "id": "2d2bf57a",
   "metadata": {
    "execution": {
     "iopub.execute_input": "2024-04-29T11:36:42.643175Z",
     "iopub.status.busy": "2024-04-29T11:36:42.642783Z",
     "iopub.status.idle": "2024-04-29T11:36:42.649547Z",
     "shell.execute_reply": "2024-04-29T11:36:42.648235Z"
    },
    "papermill": {
     "duration": 0.021154,
     "end_time": "2024-04-29T11:36:42.651998",
     "exception": false,
     "start_time": "2024-04-29T11:36:42.630844",
     "status": "completed"
    },
    "tags": []
   },
   "outputs": [
    {
     "name": "stdout",
     "output_type": "stream",
     "text": [
      "Coefficient of determination: 0.91\n"
     ]
    }
   ],
   "source": [
    "# The coefficient of determination: 1 is perfect prediction\n",
    "print('Coefficient of determination: %.2f' % r2_score(y_valid, preds))"
   ]
  },
  {
   "cell_type": "code",
   "execution_count": null,
   "id": "90796e77",
   "metadata": {
    "papermill": {
     "duration": 0.010081,
     "end_time": "2024-04-29T11:36:42.673200",
     "exception": false,
     "start_time": "2024-04-29T11:36:42.663119",
     "status": "completed"
    },
    "tags": []
   },
   "outputs": [],
   "source": []
  }
 ],
 "metadata": {
  "kaggle": {
   "accelerator": "none",
   "dataSources": [
    {
     "datasetId": 4869494,
     "sourceId": 8215633,
     "sourceType": "datasetVersion"
    }
   ],
   "dockerImageVersionId": 30698,
   "isGpuEnabled": false,
   "isInternetEnabled": true,
   "language": "python",
   "sourceType": "notebook"
  },
  "kernelspec": {
   "display_name": "Python 3",
   "language": "python",
   "name": "python3"
  },
  "language_info": {
   "codemirror_mode": {
    "name": "ipython",
    "version": 3
   },
   "file_extension": ".py",
   "mimetype": "text/x-python",
   "name": "python",
   "nbconvert_exporter": "python",
   "pygments_lexer": "ipython3",
   "version": "3.10.13"
  },
  "papermill": {
   "default_parameters": {},
   "duration": 7.570185,
   "end_time": "2024-04-29T11:36:43.304489",
   "environment_variables": {},
   "exception": null,
   "input_path": "__notebook__.ipynb",
   "output_path": "__notebook__.ipynb",
   "parameters": {},
   "start_time": "2024-04-29T11:36:35.734304",
   "version": "2.5.0"
  }
 },
 "nbformat": 4,
 "nbformat_minor": 5
}
