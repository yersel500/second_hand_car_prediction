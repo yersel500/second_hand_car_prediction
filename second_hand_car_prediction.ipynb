{
 "cells": [
  {
   "cell_type": "code",
   "execution_count": 1,
   "id": "a30a9ad6",
   "metadata": {
    "_cell_guid": "b1076dfc-b9ad-4769-8c92-a6c4dae69d19",
    "_uuid": "8f2839f25d086af736a60e9eeb907d3b93b6e0e5",
    "execution": {
     "iopub.execute_input": "2024-04-29T18:59:35.563568Z",
     "iopub.status.busy": "2024-04-29T18:59:35.562072Z",
     "iopub.status.idle": "2024-04-29T18:59:36.557421Z",
     "shell.execute_reply": "2024-04-29T18:59:36.555879Z"
    },
    "papermill": {
     "duration": 1.01445,
     "end_time": "2024-04-29T18:59:36.560402",
     "exception": false,
     "start_time": "2024-04-29T18:59:35.545952",
     "status": "completed"
    },
    "tags": []
   },
   "outputs": [],
   "source": [
    "import numpy as np # linear algebra\n",
    "import pandas as pd # data processing, CSV file I/O (e.g. pd.read_csv)"
   ]
  },
  {
   "cell_type": "code",
   "execution_count": 2,
   "id": "88577d3d",
   "metadata": {
    "execution": {
     "iopub.execute_input": "2024-04-29T18:59:36.590073Z",
     "iopub.status.busy": "2024-04-29T18:59:36.589497Z",
     "iopub.status.idle": "2024-04-29T18:59:36.640613Z",
     "shell.execute_reply": "2024-04-29T18:59:36.639632Z"
    },
    "papermill": {
     "duration": 0.068583,
     "end_time": "2024-04-29T18:59:36.642835",
     "exception": false,
     "start_time": "2024-04-29T18:59:36.574252",
     "status": "completed"
    },
    "tags": []
   },
   "outputs": [
    {
     "data": {
      "text/html": [
       "<div>\n",
       "<style scoped>\n",
       "    .dataframe tbody tr th:only-of-type {\n",
       "        vertical-align: middle;\n",
       "    }\n",
       "\n",
       "    .dataframe tbody tr th {\n",
       "        vertical-align: top;\n",
       "    }\n",
       "\n",
       "    .dataframe thead th {\n",
       "        text-align: right;\n",
       "    }\n",
       "</style>\n",
       "<table border=\"1\" class=\"dataframe\">\n",
       "  <thead>\n",
       "    <tr style=\"text-align: right;\">\n",
       "      <th></th>\n",
       "      <th>Car_ID</th>\n",
       "      <th>Brand</th>\n",
       "      <th>Model</th>\n",
       "      <th>Year</th>\n",
       "      <th>Kilometers_Driven</th>\n",
       "      <th>Fuel_Type</th>\n",
       "      <th>Transmission</th>\n",
       "      <th>Owner_Type</th>\n",
       "      <th>Mileage</th>\n",
       "      <th>Engine</th>\n",
       "      <th>Power</th>\n",
       "      <th>Seats</th>\n",
       "      <th>Price</th>\n",
       "    </tr>\n",
       "  </thead>\n",
       "  <tbody>\n",
       "    <tr>\n",
       "      <th>0</th>\n",
       "      <td>1</td>\n",
       "      <td>Toyota</td>\n",
       "      <td>Corolla</td>\n",
       "      <td>2018</td>\n",
       "      <td>50000</td>\n",
       "      <td>Petrol</td>\n",
       "      <td>Manual</td>\n",
       "      <td>First</td>\n",
       "      <td>15</td>\n",
       "      <td>1498</td>\n",
       "      <td>108</td>\n",
       "      <td>5</td>\n",
       "      <td>800000</td>\n",
       "    </tr>\n",
       "    <tr>\n",
       "      <th>1</th>\n",
       "      <td>2</td>\n",
       "      <td>Honda</td>\n",
       "      <td>Civic</td>\n",
       "      <td>2019</td>\n",
       "      <td>40000</td>\n",
       "      <td>Petrol</td>\n",
       "      <td>Automatic</td>\n",
       "      <td>Second</td>\n",
       "      <td>17</td>\n",
       "      <td>1597</td>\n",
       "      <td>140</td>\n",
       "      <td>5</td>\n",
       "      <td>1000000</td>\n",
       "    </tr>\n",
       "    <tr>\n",
       "      <th>2</th>\n",
       "      <td>3</td>\n",
       "      <td>Ford</td>\n",
       "      <td>Mustang</td>\n",
       "      <td>2017</td>\n",
       "      <td>20000</td>\n",
       "      <td>Petrol</td>\n",
       "      <td>Automatic</td>\n",
       "      <td>First</td>\n",
       "      <td>10</td>\n",
       "      <td>4951</td>\n",
       "      <td>395</td>\n",
       "      <td>4</td>\n",
       "      <td>2500000</td>\n",
       "    </tr>\n",
       "    <tr>\n",
       "      <th>3</th>\n",
       "      <td>4</td>\n",
       "      <td>Maruti</td>\n",
       "      <td>Swift</td>\n",
       "      <td>2020</td>\n",
       "      <td>30000</td>\n",
       "      <td>Diesel</td>\n",
       "      <td>Manual</td>\n",
       "      <td>Third</td>\n",
       "      <td>23</td>\n",
       "      <td>1248</td>\n",
       "      <td>74</td>\n",
       "      <td>5</td>\n",
       "      <td>600000</td>\n",
       "    </tr>\n",
       "    <tr>\n",
       "      <th>4</th>\n",
       "      <td>5</td>\n",
       "      <td>Hyundai</td>\n",
       "      <td>Sonata</td>\n",
       "      <td>2016</td>\n",
       "      <td>60000</td>\n",
       "      <td>Diesel</td>\n",
       "      <td>Automatic</td>\n",
       "      <td>Second</td>\n",
       "      <td>18</td>\n",
       "      <td>1999</td>\n",
       "      <td>194</td>\n",
       "      <td>5</td>\n",
       "      <td>850000</td>\n",
       "    </tr>\n",
       "    <tr>\n",
       "      <th>5</th>\n",
       "      <td>6</td>\n",
       "      <td>Tata</td>\n",
       "      <td>Nexon</td>\n",
       "      <td>2019</td>\n",
       "      <td>35000</td>\n",
       "      <td>Petrol</td>\n",
       "      <td>Manual</td>\n",
       "      <td>First</td>\n",
       "      <td>17</td>\n",
       "      <td>1198</td>\n",
       "      <td>108</td>\n",
       "      <td>5</td>\n",
       "      <td>750000</td>\n",
       "    </tr>\n",
       "    <tr>\n",
       "      <th>6</th>\n",
       "      <td>7</td>\n",
       "      <td>Mahindra</td>\n",
       "      <td>Scorpio</td>\n",
       "      <td>2018</td>\n",
       "      <td>45000</td>\n",
       "      <td>Diesel</td>\n",
       "      <td>Automatic</td>\n",
       "      <td>Second</td>\n",
       "      <td>15</td>\n",
       "      <td>2179</td>\n",
       "      <td>140</td>\n",
       "      <td>7</td>\n",
       "      <td>900000</td>\n",
       "    </tr>\n",
       "    <tr>\n",
       "      <th>7</th>\n",
       "      <td>8</td>\n",
       "      <td>Volkswagen</td>\n",
       "      <td>Polo</td>\n",
       "      <td>2020</td>\n",
       "      <td>25000</td>\n",
       "      <td>Petrol</td>\n",
       "      <td>Automatic</td>\n",
       "      <td>First</td>\n",
       "      <td>18</td>\n",
       "      <td>999</td>\n",
       "      <td>76</td>\n",
       "      <td>5</td>\n",
       "      <td>650000</td>\n",
       "    </tr>\n",
       "    <tr>\n",
       "      <th>8</th>\n",
       "      <td>9</td>\n",
       "      <td>Audi</td>\n",
       "      <td>A4</td>\n",
       "      <td>2017</td>\n",
       "      <td>30000</td>\n",
       "      <td>Diesel</td>\n",
       "      <td>Automatic</td>\n",
       "      <td>First</td>\n",
       "      <td>18</td>\n",
       "      <td>1968</td>\n",
       "      <td>187</td>\n",
       "      <td>5</td>\n",
       "      <td>2200000</td>\n",
       "    </tr>\n",
       "    <tr>\n",
       "      <th>9</th>\n",
       "      <td>10</td>\n",
       "      <td>BMW</td>\n",
       "      <td>X1</td>\n",
       "      <td>2019</td>\n",
       "      <td>20000</td>\n",
       "      <td>Diesel</td>\n",
       "      <td>Automatic</td>\n",
       "      <td>Second</td>\n",
       "      <td>20</td>\n",
       "      <td>1995</td>\n",
       "      <td>190</td>\n",
       "      <td>5</td>\n",
       "      <td>2700000</td>\n",
       "    </tr>\n",
       "  </tbody>\n",
       "</table>\n",
       "</div>"
      ],
      "text/plain": [
       "   Car_ID       Brand    Model  Year  Kilometers_Driven Fuel_Type  \\\n",
       "0       1      Toyota  Corolla  2018              50000    Petrol   \n",
       "1       2       Honda    Civic  2019              40000    Petrol   \n",
       "2       3        Ford  Mustang  2017              20000    Petrol   \n",
       "3       4      Maruti    Swift  2020              30000    Diesel   \n",
       "4       5     Hyundai   Sonata  2016              60000    Diesel   \n",
       "5       6        Tata    Nexon  2019              35000    Petrol   \n",
       "6       7    Mahindra  Scorpio  2018              45000    Diesel   \n",
       "7       8  Volkswagen     Polo  2020              25000    Petrol   \n",
       "8       9        Audi       A4  2017              30000    Diesel   \n",
       "9      10         BMW       X1  2019              20000    Diesel   \n",
       "\n",
       "  Transmission Owner_Type  Mileage  Engine  Power  Seats    Price  \n",
       "0       Manual      First       15    1498    108      5   800000  \n",
       "1    Automatic     Second       17    1597    140      5  1000000  \n",
       "2    Automatic      First       10    4951    395      4  2500000  \n",
       "3       Manual      Third       23    1248     74      5   600000  \n",
       "4    Automatic     Second       18    1999    194      5   850000  \n",
       "5       Manual      First       17    1198    108      5   750000  \n",
       "6    Automatic     Second       15    2179    140      7   900000  \n",
       "7    Automatic      First       18     999     76      5   650000  \n",
       "8    Automatic      First       18    1968    187      5  2200000  \n",
       "9    Automatic     Second       20    1995    190      5  2700000  "
      ]
     },
     "execution_count": 2,
     "metadata": {},
     "output_type": "execute_result"
    }
   ],
   "source": [
    "path = \"/kaggle/input/second-hand-car-price-prediction/cars.csv\"\n",
    "\n",
    "cars_data = pd.read_csv(path)\n",
    "cars_data.head(10)"
   ]
  },
  {
   "cell_type": "code",
   "execution_count": 3,
   "id": "67bf081c",
   "metadata": {
    "execution": {
     "iopub.execute_input": "2024-04-29T18:59:36.681421Z",
     "iopub.status.busy": "2024-04-29T18:59:36.680206Z",
     "iopub.status.idle": "2024-04-29T18:59:36.688771Z",
     "shell.execute_reply": "2024-04-29T18:59:36.687132Z"
    },
    "papermill": {
     "duration": 0.034501,
     "end_time": "2024-04-29T18:59:36.691652",
     "exception": false,
     "start_time": "2024-04-29T18:59:36.657151",
     "status": "completed"
    },
    "tags": []
   },
   "outputs": [
    {
     "data": {
      "text/plain": [
       "(100, 13)"
      ]
     },
     "execution_count": 3,
     "metadata": {},
     "output_type": "execute_result"
    }
   ],
   "source": [
    "cars_data.shape"
   ]
  },
  {
   "cell_type": "code",
   "execution_count": 4,
   "id": "bf9dc3cf",
   "metadata": {
    "execution": {
     "iopub.execute_input": "2024-04-29T18:59:36.723145Z",
     "iopub.status.busy": "2024-04-29T18:59:36.722759Z",
     "iopub.status.idle": "2024-04-29T18:59:36.735891Z",
     "shell.execute_reply": "2024-04-29T18:59:36.734442Z"
    },
    "papermill": {
     "duration": 0.031558,
     "end_time": "2024-04-29T18:59:36.738647",
     "exception": false,
     "start_time": "2024-04-29T18:59:36.707089",
     "status": "completed"
    },
    "tags": []
   },
   "outputs": [
    {
     "data": {
      "text/plain": [
       "0"
      ]
     },
     "execution_count": 4,
     "metadata": {},
     "output_type": "execute_result"
    }
   ],
   "source": [
    "# Check rows with missing targets\n",
    "cars_data['Price'].isna().sum()"
   ]
  },
  {
   "cell_type": "code",
   "execution_count": 5,
   "id": "4d02d0a2",
   "metadata": {
    "execution": {
     "iopub.execute_input": "2024-04-29T18:59:36.769326Z",
     "iopub.status.busy": "2024-04-29T18:59:36.768943Z",
     "iopub.status.idle": "2024-04-29T18:59:36.794087Z",
     "shell.execute_reply": "2024-04-29T18:59:36.792616Z"
    },
    "papermill": {
     "duration": 0.044123,
     "end_time": "2024-04-29T18:59:36.797147",
     "exception": false,
     "start_time": "2024-04-29T18:59:36.753024",
     "status": "completed"
    },
    "tags": []
   },
   "outputs": [
    {
     "data": {
      "text/html": [
       "<div>\n",
       "<style scoped>\n",
       "    .dataframe tbody tr th:only-of-type {\n",
       "        vertical-align: middle;\n",
       "    }\n",
       "\n",
       "    .dataframe tbody tr th {\n",
       "        vertical-align: top;\n",
       "    }\n",
       "\n",
       "    .dataframe thead th {\n",
       "        text-align: right;\n",
       "    }\n",
       "</style>\n",
       "<table border=\"1\" class=\"dataframe\">\n",
       "  <thead>\n",
       "    <tr style=\"text-align: right;\">\n",
       "      <th></th>\n",
       "      <th>Car_ID</th>\n",
       "      <th>Brand</th>\n",
       "      <th>Model</th>\n",
       "      <th>Year</th>\n",
       "      <th>Kilometers_Driven</th>\n",
       "      <th>Fuel_Type</th>\n",
       "      <th>Transmission</th>\n",
       "      <th>Owner_Type</th>\n",
       "      <th>Mileage</th>\n",
       "      <th>Engine</th>\n",
       "      <th>Power</th>\n",
       "      <th>Seats</th>\n",
       "    </tr>\n",
       "  </thead>\n",
       "  <tbody>\n",
       "    <tr>\n",
       "      <th>0</th>\n",
       "      <td>1</td>\n",
       "      <td>Toyota</td>\n",
       "      <td>Corolla</td>\n",
       "      <td>2018</td>\n",
       "      <td>50000</td>\n",
       "      <td>Petrol</td>\n",
       "      <td>Manual</td>\n",
       "      <td>First</td>\n",
       "      <td>15</td>\n",
       "      <td>1498</td>\n",
       "      <td>108</td>\n",
       "      <td>5</td>\n",
       "    </tr>\n",
       "    <tr>\n",
       "      <th>1</th>\n",
       "      <td>2</td>\n",
       "      <td>Honda</td>\n",
       "      <td>Civic</td>\n",
       "      <td>2019</td>\n",
       "      <td>40000</td>\n",
       "      <td>Petrol</td>\n",
       "      <td>Automatic</td>\n",
       "      <td>Second</td>\n",
       "      <td>17</td>\n",
       "      <td>1597</td>\n",
       "      <td>140</td>\n",
       "      <td>5</td>\n",
       "    </tr>\n",
       "    <tr>\n",
       "      <th>2</th>\n",
       "      <td>3</td>\n",
       "      <td>Ford</td>\n",
       "      <td>Mustang</td>\n",
       "      <td>2017</td>\n",
       "      <td>20000</td>\n",
       "      <td>Petrol</td>\n",
       "      <td>Automatic</td>\n",
       "      <td>First</td>\n",
       "      <td>10</td>\n",
       "      <td>4951</td>\n",
       "      <td>395</td>\n",
       "      <td>4</td>\n",
       "    </tr>\n",
       "    <tr>\n",
       "      <th>3</th>\n",
       "      <td>4</td>\n",
       "      <td>Maruti</td>\n",
       "      <td>Swift</td>\n",
       "      <td>2020</td>\n",
       "      <td>30000</td>\n",
       "      <td>Diesel</td>\n",
       "      <td>Manual</td>\n",
       "      <td>Third</td>\n",
       "      <td>23</td>\n",
       "      <td>1248</td>\n",
       "      <td>74</td>\n",
       "      <td>5</td>\n",
       "    </tr>\n",
       "    <tr>\n",
       "      <th>4</th>\n",
       "      <td>5</td>\n",
       "      <td>Hyundai</td>\n",
       "      <td>Sonata</td>\n",
       "      <td>2016</td>\n",
       "      <td>60000</td>\n",
       "      <td>Diesel</td>\n",
       "      <td>Automatic</td>\n",
       "      <td>Second</td>\n",
       "      <td>18</td>\n",
       "      <td>1999</td>\n",
       "      <td>194</td>\n",
       "      <td>5</td>\n",
       "    </tr>\n",
       "  </tbody>\n",
       "</table>\n",
       "</div>"
      ],
      "text/plain": [
       "   Car_ID    Brand    Model  Year  Kilometers_Driven Fuel_Type Transmission  \\\n",
       "0       1   Toyota  Corolla  2018              50000    Petrol       Manual   \n",
       "1       2    Honda    Civic  2019              40000    Petrol    Automatic   \n",
       "2       3     Ford  Mustang  2017              20000    Petrol    Automatic   \n",
       "3       4   Maruti    Swift  2020              30000    Diesel       Manual   \n",
       "4       5  Hyundai   Sonata  2016              60000    Diesel    Automatic   \n",
       "\n",
       "  Owner_Type  Mileage  Engine  Power  Seats  \n",
       "0      First       15    1498    108      5  \n",
       "1     Second       17    1597    140      5  \n",
       "2      First       10    4951    395      4  \n",
       "3      Third       23    1248     74      5  \n",
       "4     Second       18    1999    194      5  "
      ]
     },
     "execution_count": 5,
     "metadata": {},
     "output_type": "execute_result"
    }
   ],
   "source": [
    "X_data = cars_data.copy()\n",
    "y_data = X_data.Price\n",
    "X_data.drop(['Price'], axis=1, inplace=True)\n",
    "X_data.head()"
   ]
  },
  {
   "cell_type": "markdown",
   "id": "1d63a1e2",
   "metadata": {
    "papermill": {
     "duration": 0.015066,
     "end_time": "2024-04-29T18:59:36.827483",
     "exception": false,
     "start_time": "2024-04-29T18:59:36.812417",
     "status": "completed"
    },
    "tags": []
   },
   "source": [
    "It means that all rows have targets, so we don't need to delete any row"
   ]
  },
  {
   "cell_type": "code",
   "execution_count": 6,
   "id": "f93a7f19",
   "metadata": {
    "execution": {
     "iopub.execute_input": "2024-04-29T18:59:36.860636Z",
     "iopub.status.busy": "2024-04-29T18:59:36.860187Z",
     "iopub.status.idle": "2024-04-29T18:59:36.880072Z",
     "shell.execute_reply": "2024-04-29T18:59:36.878518Z"
    },
    "papermill": {
     "duration": 0.03946,
     "end_time": "2024-04-29T18:59:36.882945",
     "exception": false,
     "start_time": "2024-04-29T18:59:36.843485",
     "status": "completed"
    },
    "tags": []
   },
   "outputs": [
    {
     "data": {
      "text/html": [
       "<div>\n",
       "<style scoped>\n",
       "    .dataframe tbody tr th:only-of-type {\n",
       "        vertical-align: middle;\n",
       "    }\n",
       "\n",
       "    .dataframe tbody tr th {\n",
       "        vertical-align: top;\n",
       "    }\n",
       "\n",
       "    .dataframe thead th {\n",
       "        text-align: right;\n",
       "    }\n",
       "</style>\n",
       "<table border=\"1\" class=\"dataframe\">\n",
       "  <thead>\n",
       "    <tr style=\"text-align: right;\">\n",
       "      <th></th>\n",
       "      <th>Brand</th>\n",
       "      <th>Model</th>\n",
       "      <th>Year</th>\n",
       "      <th>Kilometers_Driven</th>\n",
       "      <th>Fuel_Type</th>\n",
       "      <th>Transmission</th>\n",
       "      <th>Owner_Type</th>\n",
       "      <th>Mileage</th>\n",
       "      <th>Engine</th>\n",
       "      <th>Power</th>\n",
       "      <th>Seats</th>\n",
       "    </tr>\n",
       "  </thead>\n",
       "  <tbody>\n",
       "    <tr>\n",
       "      <th>0</th>\n",
       "      <td>Toyota</td>\n",
       "      <td>Corolla</td>\n",
       "      <td>2018</td>\n",
       "      <td>50000</td>\n",
       "      <td>Petrol</td>\n",
       "      <td>Manual</td>\n",
       "      <td>First</td>\n",
       "      <td>15</td>\n",
       "      <td>1498</td>\n",
       "      <td>108</td>\n",
       "      <td>5</td>\n",
       "    </tr>\n",
       "    <tr>\n",
       "      <th>1</th>\n",
       "      <td>Honda</td>\n",
       "      <td>Civic</td>\n",
       "      <td>2019</td>\n",
       "      <td>40000</td>\n",
       "      <td>Petrol</td>\n",
       "      <td>Automatic</td>\n",
       "      <td>Second</td>\n",
       "      <td>17</td>\n",
       "      <td>1597</td>\n",
       "      <td>140</td>\n",
       "      <td>5</td>\n",
       "    </tr>\n",
       "    <tr>\n",
       "      <th>2</th>\n",
       "      <td>Ford</td>\n",
       "      <td>Mustang</td>\n",
       "      <td>2017</td>\n",
       "      <td>20000</td>\n",
       "      <td>Petrol</td>\n",
       "      <td>Automatic</td>\n",
       "      <td>First</td>\n",
       "      <td>10</td>\n",
       "      <td>4951</td>\n",
       "      <td>395</td>\n",
       "      <td>4</td>\n",
       "    </tr>\n",
       "    <tr>\n",
       "      <th>3</th>\n",
       "      <td>Maruti</td>\n",
       "      <td>Swift</td>\n",
       "      <td>2020</td>\n",
       "      <td>30000</td>\n",
       "      <td>Diesel</td>\n",
       "      <td>Manual</td>\n",
       "      <td>Third</td>\n",
       "      <td>23</td>\n",
       "      <td>1248</td>\n",
       "      <td>74</td>\n",
       "      <td>5</td>\n",
       "    </tr>\n",
       "    <tr>\n",
       "      <th>4</th>\n",
       "      <td>Hyundai</td>\n",
       "      <td>Sonata</td>\n",
       "      <td>2016</td>\n",
       "      <td>60000</td>\n",
       "      <td>Diesel</td>\n",
       "      <td>Automatic</td>\n",
       "      <td>Second</td>\n",
       "      <td>18</td>\n",
       "      <td>1999</td>\n",
       "      <td>194</td>\n",
       "      <td>5</td>\n",
       "    </tr>\n",
       "  </tbody>\n",
       "</table>\n",
       "</div>"
      ],
      "text/plain": [
       "     Brand    Model  Year  Kilometers_Driven Fuel_Type Transmission  \\\n",
       "0   Toyota  Corolla  2018              50000    Petrol       Manual   \n",
       "1    Honda    Civic  2019              40000    Petrol    Automatic   \n",
       "2     Ford  Mustang  2017              20000    Petrol    Automatic   \n",
       "3   Maruti    Swift  2020              30000    Diesel       Manual   \n",
       "4  Hyundai   Sonata  2016              60000    Diesel    Automatic   \n",
       "\n",
       "  Owner_Type  Mileage  Engine  Power  Seats  \n",
       "0      First       15    1498    108      5  \n",
       "1     Second       17    1597    140      5  \n",
       "2      First       10    4951    395      4  \n",
       "3      Third       23    1248     74      5  \n",
       "4     Second       18    1999    194      5  "
      ]
     },
     "execution_count": 6,
     "metadata": {},
     "output_type": "execute_result"
    }
   ],
   "source": [
    "# Delete the Car_ID column, since the purpose of it is only ordering the rows\n",
    "X_data.drop(['Car_ID'], axis=1, inplace=True)\n",
    "X_data.head()"
   ]
  },
  {
   "cell_type": "markdown",
   "id": "3f418a97",
   "metadata": {
    "papermill": {
     "duration": 0.015831,
     "end_time": "2024-04-29T18:59:36.914250",
     "exception": false,
     "start_time": "2024-04-29T18:59:36.898419",
     "status": "completed"
    },
    "tags": []
   },
   "source": [
    "# Linear Regression"
   ]
  },
  {
   "cell_type": "code",
   "execution_count": 7,
   "id": "1389346d",
   "metadata": {
    "execution": {
     "iopub.execute_input": "2024-04-29T18:59:36.948394Z",
     "iopub.status.busy": "2024-04-29T18:59:36.947944Z",
     "iopub.status.idle": "2024-04-29T18:59:38.400893Z",
     "shell.execute_reply": "2024-04-29T18:59:38.399637Z"
    },
    "papermill": {
     "duration": 1.474134,
     "end_time": "2024-04-29T18:59:38.404097",
     "exception": false,
     "start_time": "2024-04-29T18:59:36.929963",
     "status": "completed"
    },
    "tags": []
   },
   "outputs": [],
   "source": [
    "# Break off validation data from training data\n",
    "from sklearn.model_selection import train_test_split\n",
    "\n",
    "X_train_full, X_valid_full, y_train, y_valid = train_test_split(X_data, y_data, train_size=0.7,\n",
    "                                                     test_size=0.3, random_state=0)"
   ]
  },
  {
   "cell_type": "code",
   "execution_count": 8,
   "id": "496ed4d4",
   "metadata": {
    "execution": {
     "iopub.execute_input": "2024-04-29T18:59:38.437714Z",
     "iopub.status.busy": "2024-04-29T18:59:38.437235Z",
     "iopub.status.idle": "2024-04-29T18:59:38.452940Z",
     "shell.execute_reply": "2024-04-29T18:59:38.451643Z"
    },
    "papermill": {
     "duration": 0.035649,
     "end_time": "2024-04-29T18:59:38.455491",
     "exception": false,
     "start_time": "2024-04-29T18:59:38.419842",
     "status": "completed"
    },
    "tags": []
   },
   "outputs": [
    {
     "data": {
      "text/plain": [
       "['Brand', 'Fuel_Type', 'Transmission', 'Owner_Type']"
      ]
     },
     "execution_count": 8,
     "metadata": {},
     "output_type": "execute_result"
    }
   ],
   "source": [
    "# Identify categoricl and numerical columns:\n",
    "# Select categorical cols\n",
    "categorical_cols = [cname for cname in X_train_full.columns if\n",
    "                   X_train_full[cname].nunique() < 15 and\n",
    "                   X_train_full[cname].dtype == \"object\"]\n",
    "categorical_cols"
   ]
  },
  {
   "cell_type": "code",
   "execution_count": 9,
   "id": "05788314",
   "metadata": {
    "execution": {
     "iopub.execute_input": "2024-04-29T18:59:38.490640Z",
     "iopub.status.busy": "2024-04-29T18:59:38.490200Z",
     "iopub.status.idle": "2024-04-29T18:59:38.498937Z",
     "shell.execute_reply": "2024-04-29T18:59:38.497437Z"
    },
    "papermill": {
     "duration": 0.03087,
     "end_time": "2024-04-29T18:59:38.501995",
     "exception": false,
     "start_time": "2024-04-29T18:59:38.471125",
     "status": "completed"
    },
    "tags": []
   },
   "outputs": [
    {
     "data": {
      "text/plain": [
       "['Year', 'Kilometers_Driven', 'Mileage', 'Engine', 'Power', 'Seats']"
      ]
     },
     "execution_count": 9,
     "metadata": {},
     "output_type": "execute_result"
    }
   ],
   "source": [
    "# Select numerical cols\n",
    "numerical_cols = [cname for cname in X_train_full.columns if\n",
    "                 X_train_full[cname].dtype in ['int64', 'float64']]\n",
    "numerical_cols"
   ]
  },
  {
   "cell_type": "markdown",
   "id": "02f005f2",
   "metadata": {
    "papermill": {
     "duration": 0.016752,
     "end_time": "2024-04-29T18:59:38.534809",
     "exception": false,
     "start_time": "2024-04-29T18:59:38.518057",
     "status": "completed"
    },
    "tags": []
   },
   "source": [
    "We are missing the Brand model, let's analyize to check how many unique values we have on it"
   ]
  },
  {
   "cell_type": "code",
   "execution_count": 10,
   "id": "f7386d1e",
   "metadata": {
    "execution": {
     "iopub.execute_input": "2024-04-29T18:59:38.568438Z",
     "iopub.status.busy": "2024-04-29T18:59:38.568021Z",
     "iopub.status.idle": "2024-04-29T18:59:38.576997Z",
     "shell.execute_reply": "2024-04-29T18:59:38.575307Z"
    },
    "papermill": {
     "duration": 0.028882,
     "end_time": "2024-04-29T18:59:38.579577",
     "exception": false,
     "start_time": "2024-04-29T18:59:38.550695",
     "status": "completed"
    },
    "tags": []
   },
   "outputs": [
    {
     "data": {
      "text/plain": [
       "array(['Verna', 'Tigor', 'Tiago', 'Aspire', 'Venue', 'X3', '5 Series',\n",
       "       '3 Series', 'Passat', 'A3', 'Civic', 'Altroz', 'Santro', 'Sonata',\n",
       "       'City', 'Q3', 'Ranger', 'GLE', 'Nexon', 'XUV300', 'EcoSport',\n",
       "       'Corolla', 'WR-V', 'E-Class', 'Mustang', 'Endeavour', 'Ameo',\n",
       "       'C-Class', 'Elantra', 'X5', 'Safari', 'Q7', 'Ertiga', 'GLC',\n",
       "       'Fortuner', 'Camry', 'Innova', 'Yaris', '7 Series', 'S-Cross',\n",
       "       'Innova Crysta', 'Creta', 'Figo', 'T-Roc', 'X1', 'A6', 'BR-V'],\n",
       "      dtype=object)"
      ]
     },
     "execution_count": 10,
     "metadata": {},
     "output_type": "execute_result"
    }
   ],
   "source": [
    "X_train_full['Model'].unique()"
   ]
  },
  {
   "cell_type": "code",
   "execution_count": 11,
   "id": "c094cfee",
   "metadata": {
    "execution": {
     "iopub.execute_input": "2024-04-29T18:59:38.613157Z",
     "iopub.status.busy": "2024-04-29T18:59:38.612752Z",
     "iopub.status.idle": "2024-04-29T18:59:38.619903Z",
     "shell.execute_reply": "2024-04-29T18:59:38.618881Z"
    },
    "papermill": {
     "duration": 0.026944,
     "end_time": "2024-04-29T18:59:38.622110",
     "exception": false,
     "start_time": "2024-04-29T18:59:38.595166",
     "status": "completed"
    },
    "tags": []
   },
   "outputs": [
    {
     "data": {
      "text/plain": [
       "47"
      ]
     },
     "execution_count": 11,
     "metadata": {},
     "output_type": "execute_result"
    }
   ],
   "source": [
    "X_train_full['Model'].nunique()"
   ]
  },
  {
   "cell_type": "markdown",
   "id": "bac58784",
   "metadata": {
    "papermill": {
     "duration": 0.015851,
     "end_time": "2024-04-29T18:59:38.654219",
     "exception": false,
     "start_time": "2024-04-29T18:59:38.638368",
     "status": "completed"
    },
    "tags": []
   },
   "source": [
    "Due the the high cardinality of Model column, for now we won't consider this column. Later we'll include it to see its effect in the performance of the model"
   ]
  },
  {
   "cell_type": "code",
   "execution_count": 12,
   "id": "e4b76cf9",
   "metadata": {
    "execution": {
     "iopub.execute_input": "2024-04-29T18:59:38.687770Z",
     "iopub.status.busy": "2024-04-29T18:59:38.687264Z",
     "iopub.status.idle": "2024-04-29T18:59:38.697262Z",
     "shell.execute_reply": "2024-04-29T18:59:38.695852Z"
    },
    "papermill": {
     "duration": 0.029777,
     "end_time": "2024-04-29T18:59:38.699690",
     "exception": false,
     "start_time": "2024-04-29T18:59:38.669913",
     "status": "completed"
    },
    "tags": []
   },
   "outputs": [],
   "source": [
    "# Keep selected columns only\n",
    "my_cols = categorical_cols + numerical_cols\n",
    "X_train = X_train_full[my_cols].copy()\n",
    "X_valid = X_valid_full[my_cols].copy()"
   ]
  },
  {
   "cell_type": "code",
   "execution_count": 13,
   "id": "5a76ba1b",
   "metadata": {
    "execution": {
     "iopub.execute_input": "2024-04-29T18:59:38.733145Z",
     "iopub.status.busy": "2024-04-29T18:59:38.732697Z",
     "iopub.status.idle": "2024-04-29T18:59:38.749188Z",
     "shell.execute_reply": "2024-04-29T18:59:38.748183Z"
    },
    "papermill": {
     "duration": 0.036182,
     "end_time": "2024-04-29T18:59:38.751496",
     "exception": false,
     "start_time": "2024-04-29T18:59:38.715314",
     "status": "completed"
    },
    "tags": []
   },
   "outputs": [
    {
     "data": {
      "text/html": [
       "<div>\n",
       "<style scoped>\n",
       "    .dataframe tbody tr th:only-of-type {\n",
       "        vertical-align: middle;\n",
       "    }\n",
       "\n",
       "    .dataframe tbody tr th {\n",
       "        vertical-align: top;\n",
       "    }\n",
       "\n",
       "    .dataframe thead th {\n",
       "        text-align: right;\n",
       "    }\n",
       "</style>\n",
       "<table border=\"1\" class=\"dataframe\">\n",
       "  <thead>\n",
       "    <tr style=\"text-align: right;\">\n",
       "      <th></th>\n",
       "      <th>Brand</th>\n",
       "      <th>Fuel_Type</th>\n",
       "      <th>Transmission</th>\n",
       "      <th>Owner_Type</th>\n",
       "      <th>Year</th>\n",
       "      <th>Kilometers_Driven</th>\n",
       "      <th>Mileage</th>\n",
       "      <th>Engine</th>\n",
       "      <th>Power</th>\n",
       "      <th>Seats</th>\n",
       "    </tr>\n",
       "  </thead>\n",
       "  <tbody>\n",
       "    <tr>\n",
       "      <th>60</th>\n",
       "      <td>Hyundai</td>\n",
       "      <td>Petrol</td>\n",
       "      <td>Automatic</td>\n",
       "      <td>Second</td>\n",
       "      <td>2019</td>\n",
       "      <td>24000</td>\n",
       "      <td>17</td>\n",
       "      <td>1497</td>\n",
       "      <td>113</td>\n",
       "      <td>5</td>\n",
       "    </tr>\n",
       "    <tr>\n",
       "      <th>80</th>\n",
       "      <td>Tata</td>\n",
       "      <td>Diesel</td>\n",
       "      <td>Manual</td>\n",
       "      <td>First</td>\n",
       "      <td>2018</td>\n",
       "      <td>42000</td>\n",
       "      <td>24</td>\n",
       "      <td>1047</td>\n",
       "      <td>69</td>\n",
       "      <td>5</td>\n",
       "    </tr>\n",
       "    <tr>\n",
       "      <th>90</th>\n",
       "      <td>Tata</td>\n",
       "      <td>Petrol</td>\n",
       "      <td>Manual</td>\n",
       "      <td>First</td>\n",
       "      <td>2020</td>\n",
       "      <td>18000</td>\n",
       "      <td>23</td>\n",
       "      <td>1199</td>\n",
       "      <td>84</td>\n",
       "      <td>5</td>\n",
       "    </tr>\n",
       "    <tr>\n",
       "      <th>68</th>\n",
       "      <td>Ford</td>\n",
       "      <td>Petrol</td>\n",
       "      <td>Manual</td>\n",
       "      <td>Third</td>\n",
       "      <td>2019</td>\n",
       "      <td>26000</td>\n",
       "      <td>20</td>\n",
       "      <td>1194</td>\n",
       "      <td>94</td>\n",
       "      <td>5</td>\n",
       "    </tr>\n",
       "    <tr>\n",
       "      <th>51</th>\n",
       "      <td>Hyundai</td>\n",
       "      <td>Petrol</td>\n",
       "      <td>Manual</td>\n",
       "      <td>Third</td>\n",
       "      <td>2018</td>\n",
       "      <td>32000</td>\n",
       "      <td>17</td>\n",
       "      <td>1197</td>\n",
       "      <td>81</td>\n",
       "      <td>5</td>\n",
       "    </tr>\n",
       "  </tbody>\n",
       "</table>\n",
       "</div>"
      ],
      "text/plain": [
       "      Brand Fuel_Type Transmission Owner_Type  Year  Kilometers_Driven  \\\n",
       "60  Hyundai    Petrol    Automatic     Second  2019              24000   \n",
       "80     Tata    Diesel       Manual      First  2018              42000   \n",
       "90     Tata    Petrol       Manual      First  2020              18000   \n",
       "68     Ford    Petrol       Manual      Third  2019              26000   \n",
       "51  Hyundai    Petrol       Manual      Third  2018              32000   \n",
       "\n",
       "    Mileage  Engine  Power  Seats  \n",
       "60       17    1497    113      5  \n",
       "80       24    1047     69      5  \n",
       "90       23    1199     84      5  \n",
       "68       20    1194     94      5  \n",
       "51       17    1197     81      5  "
      ]
     },
     "execution_count": 13,
     "metadata": {},
     "output_type": "execute_result"
    }
   ],
   "source": [
    "X_train.head()"
   ]
  },
  {
   "cell_type": "markdown",
   "id": "ec6b6952",
   "metadata": {
    "papermill": {
     "duration": 0.017324,
     "end_time": "2024-04-29T18:59:38.785684",
     "exception": false,
     "start_time": "2024-04-29T18:59:38.768360",
     "status": "completed"
    },
    "tags": []
   },
   "source": [
    "Use of pipelines"
   ]
  },
  {
   "cell_type": "code",
   "execution_count": 14,
   "id": "8bf51fe7",
   "metadata": {
    "execution": {
     "iopub.execute_input": "2024-04-29T18:59:38.820931Z",
     "iopub.status.busy": "2024-04-29T18:59:38.820490Z",
     "iopub.status.idle": "2024-04-29T18:59:39.146137Z",
     "shell.execute_reply": "2024-04-29T18:59:39.143907Z"
    },
    "papermill": {
     "duration": 0.346859,
     "end_time": "2024-04-29T18:59:39.149051",
     "exception": false,
     "start_time": "2024-04-29T18:59:38.802192",
     "status": "completed"
    },
    "tags": []
   },
   "outputs": [
    {
     "name": "stdout",
     "output_type": "stream",
     "text": [
      "MAE 225599.80981168922\n"
     ]
    }
   ],
   "source": [
    "from sklearn.compose import ColumnTransformer\n",
    "from sklearn.pipeline import Pipeline\n",
    "from sklearn.impute import SimpleImputer\n",
    "from sklearn.preprocessing import OneHotEncoder\n",
    "from sklearn.linear_model import LinearRegression\n",
    "from sklearn.metrics import mean_absolute_error, r2_score\n",
    "\n",
    "#Preprocessing for numerical data:\n",
    "numerical_transformer = SimpleImputer(strategy='constant')\n",
    "\n",
    "#Preprocessing for categorical data:\n",
    "categorical_transformer = Pipeline(steps=[\n",
    "    ('imputer', SimpleImputer(strategy='most_frequent')),\n",
    "    ('onehot', OneHotEncoder(handle_unknown='ignore'))\n",
    "])\n",
    "\n",
    "#Bundle preprocessing for numericcal and categorical data\n",
    "preprocessor = ColumnTransformer(\n",
    "    transformers=[\n",
    "        ('num', numerical_transformer, numerical_cols),\n",
    "        ('cat', categorical_transformer, categorical_cols)\n",
    "    ])\n",
    "\n",
    "#Define model\n",
    "model = LinearRegression()\n",
    "\n",
    "# Bundle preprocessing and modeling code in a pipeline\n",
    "clf = Pipeline(steps=[('preprocessor', preprocessor),\n",
    "                      ('model', model)\n",
    "                     ])\n",
    "\n",
    "# Preprocessing of training data, fit model\n",
    "clf.fit(X_train, y_train)\n",
    "\n",
    "# Get predictions\n",
    "preds = clf.predict(X_valid)\n",
    "\n",
    "mae_1 = mean_absolute_error(y_valid, preds)\n",
    "\n",
    "print('MAE', mae_1)"
   ]
  },
  {
   "cell_type": "code",
   "execution_count": 15,
   "id": "f44672e9",
   "metadata": {
    "execution": {
     "iopub.execute_input": "2024-04-29T18:59:39.184437Z",
     "iopub.status.busy": "2024-04-29T18:59:39.183893Z",
     "iopub.status.idle": "2024-04-29T18:59:39.569699Z",
     "shell.execute_reply": "2024-04-29T18:59:39.568503Z"
    },
    "papermill": {
     "duration": 0.406482,
     "end_time": "2024-04-29T18:59:39.572254",
     "exception": false,
     "start_time": "2024-04-29T18:59:39.165772",
     "status": "completed"
    },
    "tags": []
   },
   "outputs": [
    {
     "data": {
      "image/png": "[encoded data removed]",
      "text/plain": [
       "<Figure size 800x600 with 1 Axes>"
      ]
     },
     "metadata": {},
     "output_type": "display_data"
    }
   ],
   "source": [
    "# Plotting\n",
    "import matplotlib.pyplot as plt\n",
    "plt.figure(figsize=(8, 6))\n",
    "plt.scatter(y_valid, preds, color='blue')  # Scatter plot of actual vs predicted\n",
    "plt.plot([y_data.min(), y_data.max()], [y_data.min(), y_data.max()], 'k--', lw=4)  # Diagonal line where actual = predicted\n",
    "plt.xlabel('Actual Price')\n",
    "plt.ylabel('Predicted Price')\n",
    "plt.title('Actual vs. Predicted Prices')\n",
    "plt.show()"
   ]
  },
  {
   "cell_type": "markdown",
   "id": "79cbd490",
   "metadata": {
    "papermill": {
     "duration": 0.01635,
     "end_time": "2024-04-29T18:59:39.605157",
     "exception": false,
     "start_time": "2024-04-29T18:59:39.588807",
     "status": "completed"
    },
    "tags": []
   },
   "source": [
    "# Linear Regression including the 'Model' column"
   ]
  },
  {
   "cell_type": "code",
   "execution_count": 16,
   "id": "cffea32a",
   "metadata": {
    "execution": {
     "iopub.execute_input": "2024-04-29T18:59:39.640646Z",
     "iopub.status.busy": "2024-04-29T18:59:39.640221Z",
     "iopub.status.idle": "2024-04-29T18:59:39.647644Z",
     "shell.execute_reply": "2024-04-29T18:59:39.646467Z"
    },
    "papermill": {
     "duration": 0.028386,
     "end_time": "2024-04-29T18:59:39.650134",
     "exception": false,
     "start_time": "2024-04-29T18:59:39.621748",
     "status": "completed"
    },
    "tags": []
   },
   "outputs": [
    {
     "data": {
      "text/plain": [
       "['Brand', 'Fuel_Type', 'Transmission', 'Owner_Type', 'Model']"
      ]
     },
     "execution_count": 16,
     "metadata": {},
     "output_type": "execute_result"
    }
   ],
   "source": [
    "# Add the model column to categorical\n",
    "if not 'Model' in categorical_cols:\n",
    "    categorical_cols.append('Model')\n",
    "    \n",
    "categorical_cols"
   ]
  },
  {
   "cell_type": "code",
   "execution_count": 17,
   "id": "3fa8086d",
   "metadata": {
    "execution": {
     "iopub.execute_input": "2024-04-29T18:59:39.748696Z",
     "iopub.status.busy": "2024-04-29T18:59:39.747849Z",
     "iopub.status.idle": "2024-04-29T18:59:39.756450Z",
     "shell.execute_reply": "2024-04-29T18:59:39.754975Z"
    },
    "papermill": {
     "duration": 0.030143,
     "end_time": "2024-04-29T18:59:39.759264",
     "exception": false,
     "start_time": "2024-04-29T18:59:39.729121",
     "status": "completed"
    },
    "tags": []
   },
   "outputs": [],
   "source": [
    "# Keep selected columns only\n",
    "my_cols = categorical_cols + numerical_cols\n",
    "X_train = X_train_full[my_cols].copy()\n",
    "X_valid = X_valid_full[my_cols].copy()"
   ]
  },
  {
   "cell_type": "code",
   "execution_count": 18,
   "id": "3526a99f",
   "metadata": {
    "execution": {
     "iopub.execute_input": "2024-04-29T18:59:39.795981Z",
     "iopub.status.busy": "2024-04-29T18:59:39.795495Z",
     "iopub.status.idle": "2024-04-29T18:59:39.847133Z",
     "shell.execute_reply": "2024-04-29T18:59:39.845751Z"
    },
    "papermill": {
     "duration": 0.073027,
     "end_time": "2024-04-29T18:59:39.849768",
     "exception": false,
     "start_time": "2024-04-29T18:59:39.776741",
     "status": "completed"
    },
    "tags": []
   },
   "outputs": [
    {
     "name": "stdout",
     "output_type": "stream",
     "text": [
      "MAE 163282.30405668318\n"
     ]
    }
   ],
   "source": [
    "from sklearn.compose import ColumnTransformer\n",
    "from sklearn.pipeline import Pipeline\n",
    "from sklearn.impute import SimpleImputer\n",
    "from sklearn.preprocessing import OneHotEncoder\n",
    "from sklearn.linear_model import LinearRegression\n",
    "from sklearn.metrics import mean_absolute_error, r2_score\n",
    "\n",
    "#Preprocessing for numerical data:\n",
    "numerical_transformer = SimpleImputer(strategy='constant')\n",
    "\n",
    "#Preprocessing for categorical data:\n",
    "categorical_transformer = Pipeline(steps=[\n",
    "    ('imputer', SimpleImputer(strategy='most_frequent')),\n",
    "    ('onehot', OneHotEncoder(handle_unknown='ignore'))\n",
    "])\n",
    "\n",
    "#Bundle preprocessing for numericcal and categorical data\n",
    "preprocessor = ColumnTransformer(\n",
    "    transformers=[\n",
    "        ('num', numerical_transformer, numerical_cols),\n",
    "        ('cat', categorical_transformer, categorical_cols)\n",
    "    ])\n",
    "\n",
    "#Define model\n",
    "model = LinearRegression()\n",
    "\n",
    "# Bundle preprocessing and modeling code in a pipeline\n",
    "clf = Pipeline(steps=[('preprocessor', preprocessor),\n",
    "                      ('model', model)\n",
    "                     ])\n",
    "\n",
    "# Preprocessing of training data, fit model\n",
    "clf.fit(X_train, y_train)\n",
    "\n",
    "# Get predictions\n",
    "preds = clf.predict(X_valid)\n",
    "\n",
    "mae_2 = mean_absolute_error(y_valid, preds)\n",
    "\n",
    "print('MAE', mae_2)"
   ]
  },
  {
   "cell_type": "markdown",
   "id": "febb5c78",
   "metadata": {
    "papermill": {
     "duration": 0.016586,
     "end_time": "2024-04-29T18:59:39.883856",
     "exception": false,
     "start_time": "2024-04-29T18:59:39.867270",
     "status": "completed"
    },
    "tags": []
   },
   "source": [
    "Out Mean Absolute Error improve "
   ]
  },
  {
   "cell_type": "code",
   "execution_count": 19,
   "id": "53205a36",
   "metadata": {
    "execution": {
     "iopub.execute_input": "2024-04-29T18:59:39.920677Z",
     "iopub.status.busy": "2024-04-29T18:59:39.919243Z",
     "iopub.status.idle": "2024-04-29T18:59:39.926936Z",
     "shell.execute_reply": "2024-04-29T18:59:39.925796Z"
    },
    "papermill": {
     "duration": 0.028524,
     "end_time": "2024-04-29T18:59:39.929298",
     "exception": false,
     "start_time": "2024-04-29T18:59:39.900774",
     "status": "completed"
    },
    "tags": []
   },
   "outputs": [
    {
     "data": {
      "text/plain": [
       "62317.505755006045"
      ]
     },
     "execution_count": 19,
     "metadata": {},
     "output_type": "execute_result"
    }
   ],
   "source": [
    "mae_improvement = mae_1 - mae_2\n",
    "mae_improvement"
   ]
  },
  {
   "cell_type": "code",
   "execution_count": 20,
   "id": "92e83243",
   "metadata": {
    "execution": {
     "iopub.execute_input": "2024-04-29T18:59:39.965590Z",
     "iopub.status.busy": "2024-04-29T18:59:39.965059Z",
     "iopub.status.idle": "2024-04-29T18:59:39.973458Z",
     "shell.execute_reply": "2024-04-29T18:59:39.972101Z"
    },
    "papermill": {
     "duration": 0.030032,
     "end_time": "2024-04-29T18:59:39.976296",
     "exception": false,
     "start_time": "2024-04-29T18:59:39.946264",
     "status": "completed"
    },
    "tags": []
   },
   "outputs": [
    {
     "data": {
      "text/plain": [
       "0.27623031157261696"
      ]
     },
     "execution_count": 20,
     "metadata": {},
     "output_type": "execute_result"
    }
   ],
   "source": [
    "mae_improvement_percentage = mae_improvement / mae_1\n",
    "mae_improvement_percentage"
   ]
  },
  {
   "cell_type": "markdown",
   "id": "b5205622",
   "metadata": {
    "papermill": {
     "duration": 0.01893,
     "end_time": "2024-04-29T18:59:40.015041",
     "exception": false,
     "start_time": "2024-04-29T18:59:39.996111",
     "status": "completed"
    },
    "tags": []
   },
   "source": [
    "**Our Mean Absolute Error reduced around 62317, which means a reduction of 27.6% respet to the initial value.**"
   ]
  },
  {
   "cell_type": "code",
   "execution_count": 21,
   "id": "1d71de12",
   "metadata": {
    "execution": {
     "iopub.execute_input": "2024-04-29T18:59:40.053511Z",
     "iopub.status.busy": "2024-04-29T18:59:40.053051Z",
     "iopub.status.idle": "2024-04-29T18:59:40.414990Z",
     "shell.execute_reply": "2024-04-29T18:59:40.413912Z"
    },
    "papermill": {
     "duration": 0.384073,
     "end_time": "2024-04-29T18:59:40.417339",
     "exception": false,
     "start_time": "2024-04-29T18:59:40.033266",
     "status": "completed"
    },
    "tags": []
   },
   "outputs": [
    {
     "data": {
      "image/png": "[encoded data removed]",
      "text/plain": [
       "<Figure size 800x600 with 1 Axes>"
      ]
     },
     "metadata": {},
     "output_type": "display_data"
    }
   ],
   "source": [
    "# Plotting\n",
    "import matplotlib.pyplot as plt\n",
    "plt.figure(figsize=(8, 6))\n",
    "plt.scatter(y_valid, preds, color='blue')  # Scatter plot of actual vs predicted\n",
    "plt.plot([y_data.min(), y_data.max()], [y_data.min(), y_data.max()], 'k--', lw=4)  # Diagonal line where actual = predicted\n",
    "plt.xlabel('Actual Price')\n",
    "plt.ylabel('Predicted Price')\n",
    "plt.title('Actual vs. Predicted Prices')\n",
    "plt.show()"
   ]
  },
  {
   "cell_type": "markdown",
   "id": "2539e8e6",
   "metadata": {
    "papermill": {
     "duration": 0.019752,
     "end_time": "2024-04-29T18:59:40.455107",
     "exception": false,
     "start_time": "2024-04-29T18:59:40.435355",
     "status": "completed"
    },
    "tags": []
   },
   "source": [
    "# Linear Regression Adding StandarScaler to the Pipeline preprocesssing"
   ]
  },
  {
   "cell_type": "code",
   "execution_count": 22,
   "id": "074e57dc",
   "metadata": {
    "execution": {
     "iopub.execute_input": "2024-04-29T18:59:40.503283Z",
     "iopub.status.busy": "2024-04-29T18:59:40.501609Z",
     "iopub.status.idle": "2024-04-29T18:59:40.551026Z",
     "shell.execute_reply": "2024-04-29T18:59:40.549664Z"
    },
    "papermill": {
     "duration": 0.07532,
     "end_time": "2024-04-29T18:59:40.554092",
     "exception": false,
     "start_time": "2024-04-29T18:59:40.478772",
     "status": "completed"
    },
    "tags": []
   },
   "outputs": [
    {
     "name": "stdout",
     "output_type": "stream",
     "text": [
      "MAE 168425.5458671553\n"
     ]
    }
   ],
   "source": [
    "from sklearn.preprocessing import StandardScaler\n",
    "\n",
    "#Preprocessing for numerical data:\n",
    "numerical_transformer = Pipeline(steps=[\n",
    "    ('imputer', SimpleImputer(strategy='constant')), \n",
    "    ('scaler', StandardScaler())\n",
    "])\n",
    "\n",
    "#Preprocessing for categorical data:\n",
    "categorical_transformer = Pipeline(steps=[\n",
    "    ('imputer', SimpleImputer(strategy='most_frequent')),\n",
    "    ('onehot', OneHotEncoder(handle_unknown='ignore'))\n",
    "])\n",
    "\n",
    "#Bundle preprocessing for numericcal and categorical data\n",
    "preprocessor = ColumnTransformer(\n",
    "    transformers=[\n",
    "        ('num', numerical_transformer, numerical_cols),\n",
    "        ('cat', categorical_transformer, categorical_cols)\n",
    "    ])\n",
    "\n",
    "#Define model\n",
    "model = LinearRegression()\n",
    "\n",
    "# Bundle preprocessing and modeling code in a pipeline\n",
    "clf = Pipeline(steps=[('preprocessor', preprocessor),\n",
    "                      ('model', model)\n",
    "                     ])\n",
    "\n",
    "# Preprocessing of training data, fit model\n",
    "clf.fit(X_train, y_train)\n",
    "\n",
    "# Get predictions\n",
    "preds = clf.predict(X_valid)\n",
    "\n",
    "mae_3 = mean_absolute_error(y_valid, preds)\n",
    "\n",
    "print('MAE', mae_3)"
   ]
  },
  {
   "cell_type": "markdown",
   "id": "1681c8cf",
   "metadata": {
    "papermill": {
     "duration": 0.019143,
     "end_time": "2024-04-29T18:59:40.591935",
     "exception": false,
     "start_time": "2024-04-29T18:59:40.572792",
     "status": "completed"
    },
    "tags": []
   },
   "source": [
    "**Just comparing the previous MAE with the current, the result is a little worse. So we just keep our model without the use of StandarScaler.**"
   ]
  },
  {
   "cell_type": "markdown",
   "id": "a62737fb",
   "metadata": {
    "papermill": {
     "duration": 0.018055,
     "end_time": "2024-04-29T18:59:40.628140",
     "exception": false,
     "start_time": "2024-04-29T18:59:40.610085",
     "status": "completed"
    },
    "tags": []
   },
   "source": [
    "# Feature Engineering"
   ]
  },
  {
   "cell_type": "markdown",
   "id": "f0dd9a2a",
   "metadata": {
    "papermill": {
     "duration": 0.020464,
     "end_time": "2024-04-29T18:59:40.672166",
     "exception": false,
     "start_time": "2024-04-29T18:59:40.651702",
     "status": "completed"
    },
    "tags": []
   },
   "source": [
    "Analyzing how prices for a car works, we think it could be defined by the brand + model. Let's create a column that do it."
   ]
  },
  {
   "cell_type": "code",
   "execution_count": 23,
   "id": "d58a8363",
   "metadata": {
    "execution": {
     "iopub.execute_input": "2024-04-29T18:59:40.730216Z",
     "iopub.status.busy": "2024-04-29T18:59:40.729787Z",
     "iopub.status.idle": "2024-04-29T18:59:40.750629Z",
     "shell.execute_reply": "2024-04-29T18:59:40.749383Z"
    },
    "papermill": {
     "duration": 0.054463,
     "end_time": "2024-04-29T18:59:40.753041",
     "exception": false,
     "start_time": "2024-04-29T18:59:40.698578",
     "status": "completed"
    },
    "tags": []
   },
   "outputs": [
    {
     "data": {
      "text/html": [
       "<div>\n",
       "<style scoped>\n",
       "    .dataframe tbody tr th:only-of-type {\n",
       "        vertical-align: middle;\n",
       "    }\n",
       "\n",
       "    .dataframe tbody tr th {\n",
       "        vertical-align: top;\n",
       "    }\n",
       "\n",
       "    .dataframe thead th {\n",
       "        text-align: right;\n",
       "    }\n",
       "</style>\n",
       "<table border=\"1\" class=\"dataframe\">\n",
       "  <thead>\n",
       "    <tr style=\"text-align: right;\">\n",
       "      <th></th>\n",
       "      <th>Brand</th>\n",
       "      <th>Model</th>\n",
       "      <th>Year</th>\n",
       "      <th>Kilometers_Driven</th>\n",
       "      <th>Fuel_Type</th>\n",
       "      <th>Transmission</th>\n",
       "      <th>Owner_Type</th>\n",
       "      <th>Mileage</th>\n",
       "      <th>Engine</th>\n",
       "      <th>Power</th>\n",
       "      <th>Seats</th>\n",
       "      <th>Brand_Model</th>\n",
       "    </tr>\n",
       "  </thead>\n",
       "  <tbody>\n",
       "    <tr>\n",
       "      <th>0</th>\n",
       "      <td>Toyota</td>\n",
       "      <td>Corolla</td>\n",
       "      <td>2018</td>\n",
       "      <td>50000</td>\n",
       "      <td>Petrol</td>\n",
       "      <td>Manual</td>\n",
       "      <td>First</td>\n",
       "      <td>15</td>\n",
       "      <td>1498</td>\n",
       "      <td>108</td>\n",
       "      <td>5</td>\n",
       "      <td>Toyota_Corolla</td>\n",
       "    </tr>\n",
       "    <tr>\n",
       "      <th>1</th>\n",
       "      <td>Honda</td>\n",
       "      <td>Civic</td>\n",
       "      <td>2019</td>\n",
       "      <td>40000</td>\n",
       "      <td>Petrol</td>\n",
       "      <td>Automatic</td>\n",
       "      <td>Second</td>\n",
       "      <td>17</td>\n",
       "      <td>1597</td>\n",
       "      <td>140</td>\n",
       "      <td>5</td>\n",
       "      <td>Honda_Civic</td>\n",
       "    </tr>\n",
       "    <tr>\n",
       "      <th>2</th>\n",
       "      <td>Ford</td>\n",
       "      <td>Mustang</td>\n",
       "      <td>2017</td>\n",
       "      <td>20000</td>\n",
       "      <td>Petrol</td>\n",
       "      <td>Automatic</td>\n",
       "      <td>First</td>\n",
       "      <td>10</td>\n",
       "      <td>4951</td>\n",
       "      <td>395</td>\n",
       "      <td>4</td>\n",
       "      <td>Ford_Mustang</td>\n",
       "    </tr>\n",
       "    <tr>\n",
       "      <th>3</th>\n",
       "      <td>Maruti</td>\n",
       "      <td>Swift</td>\n",
       "      <td>2020</td>\n",
       "      <td>30000</td>\n",
       "      <td>Diesel</td>\n",
       "      <td>Manual</td>\n",
       "      <td>Third</td>\n",
       "      <td>23</td>\n",
       "      <td>1248</td>\n",
       "      <td>74</td>\n",
       "      <td>5</td>\n",
       "      <td>Maruti_Swift</td>\n",
       "    </tr>\n",
       "    <tr>\n",
       "      <th>4</th>\n",
       "      <td>Hyundai</td>\n",
       "      <td>Sonata</td>\n",
       "      <td>2016</td>\n",
       "      <td>60000</td>\n",
       "      <td>Diesel</td>\n",
       "      <td>Automatic</td>\n",
       "      <td>Second</td>\n",
       "      <td>18</td>\n",
       "      <td>1999</td>\n",
       "      <td>194</td>\n",
       "      <td>5</td>\n",
       "      <td>Hyundai_Sonata</td>\n",
       "    </tr>\n",
       "  </tbody>\n",
       "</table>\n",
       "</div>"
      ],
      "text/plain": [
       "     Brand    Model  Year  Kilometers_Driven Fuel_Type Transmission  \\\n",
       "0   Toyota  Corolla  2018              50000    Petrol       Manual   \n",
       "1    Honda    Civic  2019              40000    Petrol    Automatic   \n",
       "2     Ford  Mustang  2017              20000    Petrol    Automatic   \n",
       "3   Maruti    Swift  2020              30000    Diesel       Manual   \n",
       "4  Hyundai   Sonata  2016              60000    Diesel    Automatic   \n",
       "\n",
       "  Owner_Type  Mileage  Engine  Power  Seats     Brand_Model  \n",
       "0      First       15    1498    108      5  Toyota_Corolla  \n",
       "1     Second       17    1597    140      5     Honda_Civic  \n",
       "2      First       10    4951    395      4    Ford_Mustang  \n",
       "3      Third       23    1248     74      5    Maruti_Swift  \n",
       "4     Second       18    1999    194      5  Hyundai_Sonata  "
      ]
     },
     "execution_count": 23,
     "metadata": {},
     "output_type": "execute_result"
    }
   ],
   "source": [
    "X_data[\"Brand_Model\"] = X_data[\"Brand\"] + \"_\" +  X_data[\"Model\"]\n",
    "X_data.head()"
   ]
  },
  {
   "cell_type": "code",
   "execution_count": 24,
   "id": "b3baba78",
   "metadata": {
    "execution": {
     "iopub.execute_input": "2024-04-29T18:59:40.805985Z",
     "iopub.status.busy": "2024-04-29T18:59:40.804887Z",
     "iopub.status.idle": "2024-04-29T18:59:40.812998Z",
     "shell.execute_reply": "2024-04-29T18:59:40.811592Z"
    },
    "papermill": {
     "duration": 0.03311,
     "end_time": "2024-04-29T18:59:40.815717",
     "exception": false,
     "start_time": "2024-04-29T18:59:40.782607",
     "status": "completed"
    },
    "tags": []
   },
   "outputs": [],
   "source": [
    "# Break off validation data from training data\n",
    "X_train_full, X_valid_full, y_train, y_valid = train_test_split(X_data, y_data, train_size=0.7,\n",
    "                                                     test_size=0.3, random_state=0)"
   ]
  },
  {
   "cell_type": "code",
   "execution_count": 25,
   "id": "79d83065",
   "metadata": {
    "execution": {
     "iopub.execute_input": "2024-04-29T18:59:40.855729Z",
     "iopub.status.busy": "2024-04-29T18:59:40.855242Z",
     "iopub.status.idle": "2024-04-29T18:59:40.861291Z",
     "shell.execute_reply": "2024-04-29T18:59:40.859913Z"
    },
    "papermill": {
     "duration": 0.029505,
     "end_time": "2024-04-29T18:59:40.863710",
     "exception": false,
     "start_time": "2024-04-29T18:59:40.834205",
     "status": "completed"
    },
    "tags": []
   },
   "outputs": [],
   "source": [
    "#Adding the new column Brand_Model to the categorical_cols list\n",
    "categorical_cols = ['Brand', 'Model', 'Brand_Model', 'Fuel_Type', 'Transmission', 'Owner_Type']\n",
    "numerical_cols = ['Year', 'Kilometers_Driven', 'Mileage', 'Engine', 'Power', 'Seats']"
   ]
  },
  {
   "cell_type": "code",
   "execution_count": 26,
   "id": "4a3063ef",
   "metadata": {
    "execution": {
     "iopub.execute_input": "2024-04-29T18:59:40.903920Z",
     "iopub.status.busy": "2024-04-29T18:59:40.903429Z",
     "iopub.status.idle": "2024-04-29T18:59:40.914596Z",
     "shell.execute_reply": "2024-04-29T18:59:40.912602Z"
    },
    "papermill": {
     "duration": 0.035572,
     "end_time": "2024-04-29T18:59:40.918198",
     "exception": false,
     "start_time": "2024-04-29T18:59:40.882626",
     "status": "completed"
    },
    "tags": []
   },
   "outputs": [],
   "source": [
    "# Keep selected columns only\n",
    "my_cols = categorical_cols + numerical_cols\n",
    "X_train = X_train_full[my_cols].copy()\n",
    "X_valid = X_valid_full[my_cols].copy()"
   ]
  },
  {
   "cell_type": "code",
   "execution_count": 27,
   "id": "83feb1de",
   "metadata": {
    "execution": {
     "iopub.execute_input": "2024-04-29T18:59:40.967889Z",
     "iopub.status.busy": "2024-04-29T18:59:40.966929Z",
     "iopub.status.idle": "2024-04-29T18:59:41.011013Z",
     "shell.execute_reply": "2024-04-29T18:59:41.010175Z"
    },
    "papermill": {
     "duration": 0.069516,
     "end_time": "2024-04-29T18:59:41.013902",
     "exception": false,
     "start_time": "2024-04-29T18:59:40.944386",
     "status": "completed"
    },
    "tags": []
   },
   "outputs": [
    {
     "name": "stdout",
     "output_type": "stream",
     "text": [
      "MAE 150337.57796314557\n"
     ]
    }
   ],
   "source": [
    "#Preprocessing for numerical data:\n",
    "numerical_transformer = SimpleImputer(strategy='constant')\n",
    "\n",
    "#Preprocessing for categorical data:\n",
    "categorical_transformer = Pipeline(steps=[\n",
    "    ('imputer', SimpleImputer(strategy='most_frequent')),\n",
    "    ('onehot', OneHotEncoder(handle_unknown='ignore'))\n",
    "])\n",
    "\n",
    "#Bundle preprocessing for numericcal and categorical data\n",
    "preprocessor = ColumnTransformer(\n",
    "    transformers=[\n",
    "        ('num', numerical_transformer, numerical_cols),\n",
    "        ('cat', categorical_transformer, categorical_cols)\n",
    "    ])\n",
    "\n",
    "#Define model\n",
    "model = LinearRegression()\n",
    "\n",
    "# Bundle preprocessing and modeling code in a pipeline\n",
    "clf = Pipeline(steps=[('preprocessor', preprocessor),\n",
    "                      ('model', model)\n",
    "                     ])\n",
    "\n",
    "# Preprocessing of training data, fit model\n",
    "clf.fit(X_train, y_train)\n",
    "\n",
    "# Get predictions\n",
    "preds = clf.predict(X_valid)\n",
    "\n",
    "mae_3 = mean_absolute_error(y_valid, preds)\n",
    "\n",
    "print('MAE', mae_3)"
   ]
  },
  {
   "cell_type": "markdown",
   "id": "82c58d05",
   "metadata": {
    "papermill": {
     "duration": 0.01985,
     "end_time": "2024-04-29T18:59:41.053140",
     "exception": false,
     "start_time": "2024-04-29T18:59:41.033290",
     "status": "completed"
    },
    "tags": []
   },
   "source": [
    "**We notice an improvement in our MAE**"
   ]
  },
  {
   "cell_type": "code",
   "execution_count": 28,
   "id": "b828460f",
   "metadata": {
    "execution": {
     "iopub.execute_input": "2024-04-29T18:59:41.095126Z",
     "iopub.status.busy": "2024-04-29T18:59:41.094027Z",
     "iopub.status.idle": "2024-04-29T18:59:41.438290Z",
     "shell.execute_reply": "2024-04-29T18:59:41.436635Z"
    },
    "papermill": {
     "duration": 0.368602,
     "end_time": "2024-04-29T18:59:41.441349",
     "exception": false,
     "start_time": "2024-04-29T18:59:41.072747",
     "status": "completed"
    },
    "tags": []
   },
   "outputs": [
    {
     "data": {
      "image/png": "[encoded data removed]",
      "text/plain": [
       "<Figure size 800x600 with 1 Axes>"
      ]
     },
     "metadata": {},
     "output_type": "display_data"
    }
   ],
   "source": [
    "# Plotting\n",
    "import matplotlib.pyplot as plt\n",
    "plt.figure(figsize=(8, 6))\n",
    "plt.scatter(y_valid, preds, color='blue')  # Scatter plot of actual vs predicted\n",
    "plt.plot([y_data.min(), y_data.max()], [y_data.min(), y_data.max()], 'k--', lw=4)  # Diagonal line where actual = predicted\n",
    "plt.xlabel('Actual Price')\n",
    "plt.ylabel('Predicted Price')\n",
    "plt.title('Actual vs. Predicted Prices')\n",
    "plt.show()"
   ]
  },
  {
   "cell_type": "markdown",
   "id": "93e8baed",
   "metadata": {
    "papermill": {
     "duration": 0.01906,
     "end_time": "2024-04-29T18:59:41.480024",
     "exception": false,
     "start_time": "2024-04-29T18:59:41.460964",
     "status": "completed"
    },
    "tags": []
   },
   "source": [
    "# Random Forest Regressor"
   ]
  },
  {
   "cell_type": "code",
   "execution_count": 29,
   "id": "615d729c",
   "metadata": {
    "execution": {
     "iopub.execute_input": "2024-04-29T18:59:41.522384Z",
     "iopub.status.busy": "2024-04-29T18:59:41.521970Z",
     "iopub.status.idle": "2024-04-29T18:59:41.921294Z",
     "shell.execute_reply": "2024-04-29T18:59:41.919572Z"
    },
    "papermill": {
     "duration": 0.425206,
     "end_time": "2024-04-29T18:59:41.924517",
     "exception": false,
     "start_time": "2024-04-29T18:59:41.499311",
     "status": "completed"
    },
    "tags": []
   },
   "outputs": [
    {
     "name": "stdout",
     "output_type": "stream",
     "text": [
      "MAE 218266.66666666666\n"
     ]
    }
   ],
   "source": [
    "from sklearn.ensemble import RandomForestRegressor\n",
    "\n",
    "#Define model\n",
    "model = RandomForestRegressor(n_estimators=100, random_state=1)\n",
    "\n",
    "# Bundle preprocessing and modeling code in a pipeline\n",
    "clf = Pipeline(steps=[('preprocessor', preprocessor),\n",
    "                      ('model', model)\n",
    "                     ])\n",
    "\n",
    "# Preprocessing of training data, fit model\n",
    "clf.fit(X_train, y_train)\n",
    "\n",
    "# Get predictions\n",
    "preds = clf.predict(X_valid)\n",
    "\n",
    "mae_4 = mean_absolute_error(y_valid, preds)\n",
    "\n",
    "print('MAE', mae_4)"
   ]
  },
  {
   "cell_type": "markdown",
   "id": "1899f16a",
   "metadata": {
    "papermill": {
     "duration": 0.019784,
     "end_time": "2024-04-29T18:59:41.964992",
     "exception": false,
     "start_time": "2024-04-29T18:59:41.945208",
     "status": "completed"
    },
    "tags": []
   },
   "source": [
    "**Since the performance is worst than LinearRegression model, we stop the analysis here**"
   ]
  },
  {
   "cell_type": "markdown",
   "id": "e4b28589",
   "metadata": {
    "papermill": {
     "duration": 0.020917,
     "end_time": "2024-04-29T18:59:42.006394",
     "exception": false,
     "start_time": "2024-04-29T18:59:41.985477",
     "status": "completed"
    },
    "tags": []
   },
   "source": [
    "# XGBoost"
   ]
  },
  {
   "cell_type": "code",
   "execution_count": 30,
   "id": "63872201",
   "metadata": {
    "execution": {
     "iopub.execute_input": "2024-04-29T18:59:42.049673Z",
     "iopub.status.busy": "2024-04-29T18:59:42.048570Z",
     "iopub.status.idle": "2024-04-29T18:59:42.697488Z",
     "shell.execute_reply": "2024-04-29T18:59:42.696494Z"
    },
    "papermill": {
     "duration": 0.673347,
     "end_time": "2024-04-29T18:59:42.700311",
     "exception": false,
     "start_time": "2024-04-29T18:59:42.026964",
     "status": "completed"
    },
    "tags": []
   },
   "outputs": [
    {
     "name": "stdout",
     "output_type": "stream",
     "text": [
      "MAE 180166.53229166666\n"
     ]
    }
   ],
   "source": [
    "from xgboost import XGBRegressor\n",
    "\n",
    "#Define model\n",
    "model = XGBRegressor(n_estimators=500, learning_rate=0.05)\n",
    "\n",
    "# Bundle preprocessing and modeling code in a pipeline\n",
    "clf = Pipeline(steps=[('preprocessor', preprocessor),\n",
    "                      ('model', model)\n",
    "                     ])\n",
    "\n",
    "# Preprocessing of training data, fit model\n",
    "clf.fit(X_train, y_train)\n",
    "\n",
    "# Get predictions\n",
    "preds = clf.predict(X_valid)\n",
    "\n",
    "mae_5 = mean_absolute_error(y_valid, preds)\n",
    "\n",
    "print('MAE', mae_5)"
   ]
  },
  {
   "cell_type": "markdown",
   "id": "1b2e001b",
   "metadata": {
    "papermill": {
     "duration": 0.019169,
     "end_time": "2024-04-29T18:59:42.739865",
     "exception": false,
     "start_time": "2024-04-29T18:59:42.720696",
     "status": "completed"
    },
    "tags": []
   },
   "source": [
    "**Since the performance is worst than the LinearRegression model, we just discard this model.**"
   ]
  },
  {
   "cell_type": "code",
   "execution_count": null,
   "id": "7da2a980",
   "metadata": {
    "papermill": {
     "duration": 0.019902,
     "end_time": "2024-04-29T18:59:42.779680",
     "exception": false,
     "start_time": "2024-04-29T18:59:42.759778",
     "status": "completed"
    },
    "tags": []
   },
   "outputs": [],
   "source": []
  }
 ],
 "metadata": {
  "kaggle": {
   "accelerator": "none",
   "dataSources": [
    {
     "datasetId": 4869494,
     "sourceId": 8215633,
     "sourceType": "datasetVersion"
    }
   ],
   "dockerImageVersionId": 30698,
   "isGpuEnabled": false,
   "isInternetEnabled": true,
   "language": "python",
   "sourceType": "notebook"
  },
  "kernelspec": {
   "display_name": "Python 3",
   "language": "python",
   "name": "python3"
  },
  "language_info": {
   "codemirror_mode": {
    "name": "ipython",
    "version": 3
   },
   "file_extension": ".py",
   "mimetype": "text/x-python",
   "name": "python",
   "nbconvert_exporter": "python",
   "pygments_lexer": "ipython3",
   "version": "3.10.13"
  },
  "papermill": {
   "default_parameters": {},
   "duration": 11.297105,
   "end_time": "2024-04-29T18:59:43.623834",
   "environment_variables": {},
   "exception": null,
   "input_path": "__notebook__.ipynb",
   "output_path": "__notebook__.ipynb",
   "parameters": {},
   "start_time": "2024-04-29T18:59:32.326729",
   "version": "2.5.0"
  }
 },
 "nbformat": 4,
 "nbformat_minor": 5
}
